{
 "cells": [
  {
   "cell_type": "code",
   "execution_count": 1,
   "metadata": {},
   "outputs": [
    {
     "name": "stderr",
     "output_type": "stream",
     "text": [
      "/data/training/pypoetry/virtualenvs/multipage-classifier-xptqA-4L-py3.11/lib/python3.11/site-packages/tqdm/auto.py:21: TqdmWarning: IProgress not found. Please update jupyter and ipywidgets. See https://ipywidgets.readthedocs.io/en/stable/user_install.html\n",
      "  from .autonotebook import tqdm as notebook_tqdm\n"
     ]
    }
   ],
   "source": [
    "from mosaic_dataset import MosaicDataModule\n",
    "import json\n",
    "from pathlib import Path"
   ]
  },
  {
   "cell_type": "code",
   "execution_count": 2,
   "metadata": {},
   "outputs": [],
   "source": [
    "\n",
    "DATASET_PATH = \"/data/training/master_thesis/datasets/2023-05-23\"\n",
    "CLASS_PATH = \"/data/training/master_thesis/datasets/bzuf_classes.json\"\n",
    "BATCH_SIZE = 1\n",
    "MAX_PAGES = 4\n",
    "NUM_WORKERS = 0"
   ]
  },
  {
   "cell_type": "code",
   "execution_count": 3,
   "metadata": {},
   "outputs": [
    {
     "name": "stderr",
     "output_type": "stream",
     "text": [
      "Some weights of SwinModel were not initialized from the model checkpoint at microsoft/swinv2-small-patch4-window8-256 and are newly initialized: ['swin.encoder.layers.2.blocks.0.attention.self.value.weight', 'swin.encoder.layers.2.blocks.6.layernorm_after.weight', 'swin.encoder.layers.2.blocks.7.attention.self.key.bias', 'swin.encoder.layers.2.blocks.11.attention.self.relative_position_bias_table', 'swin.encoder.layers.2.blocks.5.attention.output.dense.weight', 'swin.encoder.layers.2.blocks.8.attention.self.relative_position_index', 'swin.encoder.layers.1.blocks.1.intermediate.dense.bias', 'swin.encoder.layers.3.blocks.1.attention.self.query.bias', 'swin.encoder.layers.3.blocks.0.attention.self.query.weight', 'swin.encoder.layers.3.blocks.0.layernorm_before.weight', 'swin.encoder.layers.2.blocks.14.attention.output.dense.weight', 'swin.encoder.layers.1.blocks.0.attention.self.key.weight', 'swin.encoder.layers.2.blocks.5.attention.output.dense.bias', 'swin.encoder.layers.2.blocks.11.attention.self.key.weight', 'swin.encoder.layers.1.blocks.0.attention.self.key.bias', 'swin.encoder.layers.2.blocks.12.attention.self.relative_position_bias_table', 'swin.encoder.layers.2.blocks.4.layernorm_before.weight', 'swin.encoder.layers.0.downsample.norm.bias', 'swin.encoder.layers.0.blocks.0.attention.self.key.weight', 'swin.encoder.layers.3.blocks.1.layernorm_before.bias', 'swin.encoder.layers.2.blocks.13.attention.self.key.bias', 'swin.encoder.layers.2.blocks.0.intermediate.dense.weight', 'swin.encoder.layers.2.blocks.14.output.dense.bias', 'swin.encoder.layers.2.blocks.13.attention.self.value.bias', 'swin.encoder.layers.2.blocks.11.attention.self.query.weight', 'swin.encoder.layers.2.blocks.17.attention.self.key.weight', 'swin.encoder.layers.2.blocks.7.output.dense.weight', 'swin.encoder.layers.2.downsample.reduction.weight', 'swin.encoder.layers.2.blocks.1.attention.self.key.weight', 'swin.encoder.layers.2.blocks.10.attention.output.dense.bias', 'swin.encoder.layers.2.blocks.11.output.dense.bias', 'swin.encoder.layers.2.blocks.7.layernorm_before.bias', 'swin.encoder.layers.1.blocks.0.attention.self.value.bias', 'swin.encoder.layers.3.blocks.0.attention.self.key.bias', 'swin.encoder.layers.2.blocks.1.attention.self.value.bias', 'swin.encoder.layers.2.blocks.11.attention.self.key.bias', 'swin.encoder.layers.2.blocks.12.attention.output.dense.weight', 'swin.encoder.layers.1.blocks.0.attention.output.dense.bias', 'swin.encoder.layers.2.blocks.3.output.dense.weight', 'swin.encoder.layers.0.blocks.0.output.dense.bias', 'swin.encoder.layers.2.blocks.0.output.dense.weight', 'swin.encoder.layers.1.blocks.1.attention.self.relative_position_bias_table', 'swin.encoder.layers.2.blocks.12.layernorm_after.weight', 'swin.encoder.layers.2.blocks.6.attention.self.relative_position_index', 'swin.encoder.layers.3.blocks.0.attention.output.dense.weight', 'swin.encoder.layers.2.blocks.1.attention.output.dense.weight', 'swin.encoder.layers.2.blocks.4.intermediate.dense.bias', 'swin.encoder.layers.2.blocks.0.attention.self.key.weight', 'swin.encoder.layers.2.blocks.12.layernorm_after.bias', 'swin.encoder.layers.2.blocks.7.attention.self.query.weight', 'swin.encoder.layers.2.blocks.9.intermediate.dense.weight', 'swin.encoder.layers.2.blocks.0.attention.self.relative_position_index', 'swin.encoder.layers.0.blocks.0.layernorm_before.bias', 'swin.encoder.layers.2.blocks.11.output.dense.weight', 'swin.encoder.layers.2.blocks.9.attention.self.relative_position_index', 'swin.encoder.layers.2.blocks.7.attention.self.relative_position_bias_table', 'swin.encoder.layers.2.blocks.4.attention.self.value.bias', 'swin.encoder.layers.3.blocks.0.attention.self.value.weight', 'swin.encoder.layers.2.blocks.14.attention.self.query.weight', 'swin.encoder.layers.2.blocks.7.attention.output.dense.bias', 'swin.encoder.layers.2.blocks.15.output.dense.weight', 'swin.encoder.layers.2.blocks.16.layernorm_after.bias', 'swin.encoder.layers.2.blocks.1.layernorm_after.weight', 'swin.encoder.layers.3.blocks.1.intermediate.dense.weight', 'swin.encoder.layers.3.blocks.1.attention.self.key.bias', 'swin.encoder.layers.2.blocks.15.layernorm_after.weight', 'swin.encoder.layers.3.blocks.0.intermediate.dense.bias', 'swin.encoder.layers.2.blocks.14.intermediate.dense.weight', 'swin.encoder.layers.2.blocks.4.attention.self.key.bias', 'swin.encoder.layers.2.blocks.7.layernorm_after.weight', 'swin.encoder.layers.0.blocks.1.attention.self.relative_position_bias_table', 'swin.encoder.layers.0.blocks.1.layernorm_after.weight', 'swin.encoder.layers.2.blocks.15.attention.self.relative_position_index', 'swin.encoder.layers.1.blocks.1.attention.self.relative_position_index', 'swin.encoder.layers.0.blocks.1.layernorm_before.bias', 'swin.encoder.layers.0.blocks.1.intermediate.dense.weight', 'swin.encoder.layers.2.blocks.2.layernorm_before.weight', 'swin.encoder.layers.2.blocks.0.attention.self.key.bias', 'swin.encoder.layers.2.blocks.3.attention.self.key.weight', 'swin.encoder.layers.2.blocks.9.attention.self.relative_position_bias_table', 'swin.encoder.layers.2.blocks.12.attention.self.key.weight', 'swin.encoder.layers.3.blocks.1.attention.self.value.weight', 'swin.encoder.layers.2.blocks.17.output.dense.bias', 'swin.encoder.layers.3.blocks.0.attention.self.relative_position_index', 'swin.encoder.layers.3.blocks.0.output.dense.bias', 'swin.encoder.layers.2.blocks.17.attention.self.relative_position_bias_table', 'swin.encoder.layers.2.blocks.8.output.dense.bias', 'swin.encoder.layers.1.blocks.0.output.dense.bias', 'swin.encoder.layers.2.blocks.4.attention.self.value.weight', 'swin.encoder.layers.2.blocks.17.attention.self.key.bias', 'swin.encoder.layers.2.blocks.13.attention.output.dense.weight', 'swin.encoder.layers.2.blocks.11.layernorm_after.bias', 'swin.encoder.layers.2.blocks.9.layernorm_after.weight', 'swin.encoder.layers.2.blocks.3.attention.output.dense.weight', 'swin.encoder.layers.2.blocks.6.attention.self.value.weight', 'swin.encoder.layers.3.blocks.0.attention.self.key.weight', 'swin.encoder.layers.2.blocks.9.attention.output.dense.bias', 'swin.encoder.layers.2.blocks.16.attention.self.relative_position_index', 'swin.encoder.layers.1.downsample.norm.bias', 'swin.encoder.layers.2.downsample.norm.bias', 'swin.encoder.layers.2.blocks.11.layernorm_after.weight', 'swin.embeddings.norm.bias', 'swin.encoder.layers.2.blocks.14.attention.self.relative_position_bias_table', 'swin.encoder.layers.2.blocks.8.attention.self.key.bias', 'swin.encoder.layers.2.blocks.0.layernorm_after.bias', 'swin.encoder.layers.2.blocks.11.attention.self.value.bias', 'swin.encoder.layers.2.blocks.3.attention.self.key.bias', 'swin.encoder.layers.2.blocks.8.layernorm_before.weight', 'swin.encoder.layers.0.blocks.0.output.dense.weight', 'swin.encoder.layers.2.blocks.10.intermediate.dense.bias', 'swin.encoder.layers.2.blocks.3.layernorm_after.bias', 'swin.encoder.layers.2.blocks.14.attention.self.relative_position_index', 'swin.encoder.layers.2.blocks.6.output.dense.bias', 'swin.encoder.layers.2.blocks.3.attention.self.query.bias', 'swin.encoder.layers.2.blocks.4.attention.self.query.weight', 'swin.encoder.layers.2.blocks.9.layernorm_after.bias', 'swin.encoder.layers.2.blocks.6.output.dense.weight', 'swin.encoder.layers.3.blocks.0.attention.self.value.bias', 'swin.encoder.layers.2.blocks.7.attention.self.value.weight', 'swin.encoder.layers.2.blocks.17.attention.self.query.weight', 'swin.encoder.layers.2.blocks.3.layernorm_before.bias', 'swin.encoder.layers.2.blocks.9.intermediate.dense.bias', 'swin.encoder.layers.2.blocks.15.attention.self.query.bias', 'swin.encoder.layers.1.blocks.1.attention.self.value.bias', 'swin.encoder.layers.2.blocks.6.intermediate.dense.weight', 'swin.encoder.layers.0.blocks.1.intermediate.dense.bias', 'swin.encoder.layers.2.blocks.13.layernorm_after.weight', 'swin.encoder.layers.2.blocks.5.layernorm_before.weight', 'swin.encoder.layers.1.blocks.0.layernorm_after.weight', 'swin.encoder.layers.2.blocks.15.layernorm_before.bias', 'swin.encoder.layers.2.blocks.5.output.dense.bias', 'swin.encoder.layers.2.blocks.15.attention.self.query.weight', 'swin.encoder.layers.2.blocks.2.attention.self.key.bias', 'swin.encoder.layers.0.blocks.1.attention.output.dense.weight', 'swin.encoder.layers.2.blocks.13.attention.self.query.bias', 'swin.encoder.layers.2.blocks.2.attention.self.key.weight', 'swin.encoder.layers.2.blocks.10.attention.self.relative_position_index', 'swin.encoder.layers.2.blocks.3.attention.self.relative_position_bias_table', 'swin.encoder.layers.2.blocks.7.attention.self.relative_position_index', 'swin.encoder.layers.2.blocks.3.attention.self.value.weight', 'swin.encoder.layers.2.blocks.9.output.dense.bias', 'swin.encoder.layers.2.blocks.14.attention.self.query.bias', 'swin.encoder.layers.2.blocks.14.attention.self.key.bias', 'swin.encoder.layers.2.blocks.17.layernorm_before.bias', 'swin.encoder.layers.2.blocks.3.intermediate.dense.bias', 'swin.encoder.layers.2.blocks.7.attention.self.value.bias', 'swin.encoder.layers.2.blocks.12.attention.self.query.bias', 'swin.encoder.layers.2.blocks.10.attention.self.value.bias', 'swin.encoder.layers.3.blocks.0.layernorm_after.weight', 'swin.encoder.layers.2.blocks.8.attention.self.key.weight', 'swin.encoder.layers.2.blocks.9.attention.self.query.bias', 'swin.encoder.layers.2.blocks.11.attention.self.query.bias', 'swin.encoder.layers.2.blocks.10.attention.self.query.bias', 'swin.encoder.layers.2.blocks.12.intermediate.dense.bias', 'swin.encoder.layers.2.blocks.9.attention.self.value.weight', 'swin.encoder.layers.2.blocks.12.attention.self.value.weight', 'swin.encoder.layers.2.blocks.12.layernorm_before.bias', 'swin.encoder.layers.1.blocks.1.layernorm_after.bias', 'swin.encoder.layers.2.blocks.9.attention.output.dense.weight', 'swin.encoder.layers.1.blocks.1.attention.self.key.bias', 'swin.encoder.layers.2.blocks.8.output.dense.weight', 'swin.encoder.layers.0.blocks.0.intermediate.dense.bias', 'swin.embeddings.patch_embeddings.projection.bias', 'swin.encoder.layers.2.blocks.15.attention.output.dense.bias', 'swin.encoder.layers.2.blocks.4.output.dense.bias', 'swin.encoder.layers.2.blocks.0.attention.self.relative_position_bias_table', 'swin.encoder.layers.2.blocks.1.layernorm_before.bias', 'swin.encoder.layers.2.blocks.6.attention.output.dense.bias', 'swin.encoder.layers.2.blocks.12.attention.self.query.weight', 'swin.encoder.layers.2.blocks.14.attention.self.value.bias', 'swin.encoder.layers.3.blocks.1.attention.output.dense.weight', 'swin.encoder.layers.2.blocks.9.attention.self.value.bias', 'swin.encoder.layers.1.blocks.0.attention.self.query.weight', 'swin.encoder.layers.2.blocks.17.output.dense.weight', 'swin.encoder.layers.3.blocks.1.output.dense.bias', 'swin.encoder.layers.2.blocks.16.attention.self.query.bias', 'swin.encoder.layers.2.blocks.5.attention.self.key.bias', 'swin.encoder.layers.2.blocks.1.output.dense.weight', 'swin.encoder.layers.2.blocks.16.output.dense.bias', 'swin.encoder.layers.2.blocks.13.attention.self.key.weight', 'swin.encoder.layers.2.blocks.15.attention.self.value.weight', 'swin.encoder.layers.2.blocks.6.attention.self.key.bias', 'swin.encoder.layers.2.blocks.10.attention.self.value.weight', 'swin.encoder.layers.2.blocks.10.layernorm_after.weight', 'swin.encoder.layers.2.blocks.17.layernorm_after.weight', 'swin.encoder.layers.2.blocks.2.output.dense.weight', 'swin.encoder.layers.3.blocks.0.attention.output.dense.bias', 'swin.encoder.layers.2.blocks.1.layernorm_after.bias', 'swin.encoder.layers.2.blocks.3.output.dense.bias', 'swin.encoder.layers.2.blocks.9.attention.self.key.bias', 'swin.encoder.layers.2.blocks.2.attention.self.relative_position_bias_table', 'swin.encoder.layers.2.blocks.2.layernorm_before.bias', 'swin.encoder.layers.2.blocks.13.output.dense.weight', 'swin.encoder.layers.2.blocks.3.intermediate.dense.weight', 'swin.encoder.layers.2.blocks.11.intermediate.dense.bias', 'swin.encoder.layers.2.blocks.4.attention.output.dense.weight', 'swin.encoder.layers.3.blocks.1.output.dense.weight', 'swin.encoder.layers.2.blocks.2.intermediate.dense.weight', 'swin.encoder.layers.2.blocks.15.layernorm_after.bias', 'swin.encoder.layers.3.blocks.1.attention.self.relative_position_index', 'swin.encoder.layers.2.blocks.10.attention.self.key.weight', 'swin.encoder.layers.2.blocks.14.layernorm_after.bias', 'swin.encoder.layers.2.blocks.8.attention.self.query.weight', 'swin.encoder.layers.2.blocks.4.output.dense.weight', 'swin.encoder.layers.2.blocks.8.layernorm_before.bias', 'swin.encoder.layers.2.blocks.8.attention.output.dense.weight', 'swin.encoder.layers.2.blocks.16.attention.self.value.bias', 'swin.encoder.layers.2.blocks.4.layernorm_after.bias', 'swin.encoder.layers.0.blocks.0.layernorm_before.weight', 'swin.encoder.layers.2.blocks.7.attention.output.dense.weight', 'swin.encoder.layers.0.blocks.0.attention.self.query.bias', 'swin.encoder.layers.2.blocks.15.attention.self.key.bias', 'swin.encoder.layers.2.blocks.0.layernorm_after.weight', 'swin.encoder.layers.2.blocks.17.attention.self.query.bias', 'swin.encoder.layers.2.blocks.17.attention.output.dense.bias', 'swin.encoder.layers.1.blocks.0.output.dense.weight', 'swin.encoder.layers.2.blocks.14.attention.output.dense.bias', 'swin.encoder.layers.2.blocks.2.attention.output.dense.bias', 'swin.encoder.layers.2.blocks.17.intermediate.dense.weight', 'swin.encoder.layers.2.blocks.5.attention.self.relative_position_bias_table', 'swin.encoder.layers.0.downsample.reduction.weight', 'swin.encoder.layers.2.blocks.13.layernorm_after.bias', 'swin.encoder.layers.2.blocks.12.attention.output.dense.bias', 'swin.encoder.layers.3.blocks.1.intermediate.dense.bias', 'swin.encoder.layers.2.blocks.3.attention.self.query.weight', 'swin.encoder.layers.2.blocks.15.output.dense.bias', 'swin.encoder.layers.2.blocks.5.attention.self.key.weight', 'swin.encoder.layers.2.blocks.13.attention.self.value.weight', 'swin.encoder.layers.2.blocks.10.attention.output.dense.weight', 'swin.encoder.layers.2.blocks.1.attention.self.relative_position_index', 'swin.encoder.layers.2.blocks.10.layernorm_before.bias', 'swin.encoder.layers.1.blocks.0.attention.output.dense.weight', 'swin.encoder.layers.1.blocks.0.attention.self.query.bias', 'swin.encoder.layers.2.blocks.13.attention.self.relative_position_index', 'swin.encoder.layers.2.blocks.8.layernorm_after.weight', 'swin.encoder.layers.2.blocks.5.attention.self.relative_position_index', 'swin.encoder.layers.2.blocks.12.output.dense.bias', 'swin.encoder.layers.1.blocks.1.output.dense.bias', 'swin.encoder.layers.2.blocks.12.attention.self.relative_position_index', 'swin.encoder.layers.2.blocks.16.attention.self.relative_position_bias_table', 'swin.encoder.layers.2.blocks.0.layernorm_before.bias', 'swin.encoder.layers.2.blocks.16.layernorm_before.bias', 'swin.encoder.layers.0.blocks.0.intermediate.dense.weight', 'swin.encoder.layers.0.downsample.norm.weight', 'swin.layernorm.bias', 'swin.encoder.layers.0.blocks.0.attention.self.key.bias', 'swin.encoder.layers.2.blocks.13.intermediate.dense.bias', 'swin.encoder.layers.2.blocks.16.attention.self.value.weight', 'swin.encoder.layers.2.blocks.4.attention.self.relative_position_bias_table', 'swin.encoder.layers.2.blocks.3.attention.output.dense.bias', 'swin.encoder.layers.2.blocks.2.attention.self.value.weight', 'swin.encoder.layers.2.blocks.5.intermediate.dense.bias', 'swin.encoder.layers.2.blocks.17.attention.output.dense.weight', 'swin.encoder.layers.2.blocks.7.attention.self.query.bias', 'swin.encoder.layers.2.blocks.10.layernorm_before.weight', 'swin.encoder.layers.2.blocks.6.attention.self.relative_position_bias_table', 'swin.encoder.layers.1.blocks.1.intermediate.dense.weight', 'swin.encoder.layers.0.blocks.1.attention.self.query.bias', 'swin.encoder.layers.2.blocks.14.attention.self.value.weight', 'swin.encoder.layers.2.blocks.10.attention.self.query.weight', 'swin.encoder.layers.2.blocks.12.attention.self.key.bias', 'swin.encoder.layers.0.blocks.1.attention.output.dense.bias', 'swin.encoder.layers.2.blocks.6.layernorm_before.bias', 'swin.encoder.layers.2.blocks.10.output.dense.bias', 'swin.encoder.layers.2.blocks.15.attention.self.key.weight', 'swin.encoder.layers.2.blocks.6.attention.self.query.weight', 'swin.encoder.layers.0.blocks.1.output.dense.weight', 'swin.encoder.layers.2.blocks.5.output.dense.weight', 'swin.encoder.layers.1.blocks.0.attention.self.value.weight', 'swin.encoder.layers.2.blocks.9.attention.self.key.weight', 'swin.encoder.layers.2.blocks.16.intermediate.dense.bias', 'swin.encoder.layers.2.blocks.5.attention.self.query.weight', 'swin.encoder.layers.2.blocks.2.layernorm_after.weight', 'swin.encoder.layers.2.blocks.15.attention.self.relative_position_bias_table', 'swin.encoder.layers.1.blocks.1.output.dense.weight', 'swin.encoder.layers.2.blocks.16.layernorm_before.weight', 'swin.encoder.layers.2.blocks.4.layernorm_after.weight', 'swin.encoder.layers.2.blocks.14.intermediate.dense.bias', 'swin.encoder.layers.3.blocks.1.layernorm_before.weight', 'swin.encoder.layers.0.blocks.0.attention.self.relative_position_bias_table', 'swin.encoder.layers.2.blocks.11.layernorm_before.weight', 'swin.encoder.layers.2.blocks.6.attention.self.value.bias', 'swin.encoder.layers.0.blocks.1.attention.self.value.bias', 'swin.encoder.layers.0.blocks.1.layernorm_after.bias', 'swin.encoder.layers.2.blocks.12.layernorm_before.weight', 'swin.encoder.layers.2.blocks.6.intermediate.dense.bias', 'swin.encoder.layers.2.blocks.2.attention.output.dense.weight', 'swin.encoder.layers.2.blocks.1.attention.self.key.bias', 'swin.encoder.layers.2.blocks.13.output.dense.bias', 'swin.encoder.layers.0.blocks.0.attention.output.dense.weight', 'swin.encoder.layers.1.blocks.1.layernorm_before.weight', 'swin.encoder.layers.2.blocks.8.attention.self.relative_position_bias_table', 'swin.encoder.layers.2.blocks.13.attention.self.query.weight', 'swin.encoder.layers.2.blocks.0.attention.output.dense.bias', 'swin.encoder.layers.2.blocks.2.attention.self.value.bias', 'swin.encoder.layers.2.blocks.8.layernorm_after.bias', 'swin.encoder.layers.0.blocks.1.attention.self.key.bias', 'swin.encoder.layers.2.blocks.4.attention.output.dense.bias', 'swin.encoder.layers.2.blocks.8.attention.self.value.bias', 'swin.encoder.layers.2.blocks.5.attention.self.query.bias', 'swin.encoder.layers.2.blocks.4.layernorm_before.bias', 'swin.encoder.layers.2.blocks.2.intermediate.dense.bias', 'swin.encoder.layers.2.blocks.0.attention.self.query.bias', 'swin.encoder.layers.2.blocks.8.attention.output.dense.bias', 'swin.encoder.layers.2.blocks.14.output.dense.weight', 'swin.encoder.layers.2.blocks.13.intermediate.dense.weight', 'swin.encoder.layers.2.blocks.3.attention.self.relative_position_index', 'swin.encoder.layers.2.blocks.7.output.dense.bias', 'swin.encoder.layers.2.blocks.11.attention.output.dense.bias', 'swin.encoder.layers.2.blocks.1.attention.output.dense.bias', 'swin.encoder.layers.3.blocks.0.layernorm_before.bias', 'swin.encoder.layers.2.blocks.1.intermediate.dense.weight', 'swin.encoder.layers.2.blocks.14.layernorm_before.weight', 'swin.encoder.layers.2.blocks.10.layernorm_after.bias', 'swin.encoder.layers.2.blocks.17.attention.self.relative_position_index', 'swin.encoder.layers.2.blocks.9.layernorm_before.weight', 'swin.encoder.layers.2.blocks.17.attention.self.value.weight', 'swin.encoder.layers.2.blocks.2.attention.self.query.weight', 'swin.encoder.layers.2.blocks.1.attention.self.query.weight', 'swin.encoder.layers.2.blocks.11.intermediate.dense.weight', 'swin.encoder.layers.2.blocks.10.output.dense.weight', 'swin.encoder.layers.2.blocks.10.attention.self.key.bias', 'swin.encoder.layers.1.blocks.0.attention.self.relative_position_index', 'swin.encoder.layers.2.blocks.11.attention.self.value.weight', 'swin.encoder.layers.2.blocks.1.intermediate.dense.bias', 'swin.encoder.layers.2.blocks.13.attention.self.relative_position_bias_table', 'swin.encoder.layers.2.blocks.16.output.dense.weight', 'swin.encoder.layers.2.blocks.7.attention.self.key.weight', 'swin.embeddings.norm.weight', 'swin.encoder.layers.2.blocks.7.layernorm_after.bias', 'swin.encoder.layers.0.blocks.1.attention.self.relative_position_index', 'swin.encoder.layers.2.blocks.5.layernorm_before.bias', 'swin.encoder.layers.2.blocks.11.attention.output.dense.weight', 'swin.encoder.layers.2.blocks.15.intermediate.dense.weight', 'swin.encoder.layers.2.downsample.norm.weight', 'swin.encoder.layers.0.blocks.1.attention.self.query.weight', 'swin.encoder.layers.1.downsample.norm.weight', 'swin.encoder.layers.2.blocks.8.attention.self.value.weight', 'swin.encoder.layers.2.blocks.3.attention.self.value.bias', 'swin.encoder.layers.2.blocks.9.layernorm_before.bias', 'swin.encoder.layers.2.blocks.15.layernorm_before.weight', 'swin.encoder.layers.2.blocks.7.layernorm_before.weight', 'swin.encoder.layers.2.blocks.0.intermediate.dense.bias', 'swin.encoder.layers.2.blocks.15.intermediate.dense.bias', 'swin.encoder.layers.2.blocks.1.attention.self.value.weight', 'swin.encoder.layers.2.blocks.2.layernorm_after.bias', 'swin.encoder.layers.0.blocks.1.attention.self.key.weight', 'swin.encoder.layers.2.blocks.1.output.dense.bias', 'swin.encoder.layers.2.blocks.10.attention.self.relative_position_bias_table', 'swin.encoder.layers.2.blocks.16.attention.output.dense.bias', 'swin.layernorm.weight', 'swin.encoder.layers.3.blocks.0.attention.self.relative_position_bias_table', 'swin.encoder.layers.2.blocks.2.output.dense.bias', 'swin.encoder.layers.0.blocks.0.attention.self.value.weight', 'swin.encoder.layers.0.blocks.1.layernorm_before.weight', 'swin.encoder.layers.2.blocks.0.output.dense.bias', 'swin.encoder.layers.2.blocks.7.intermediate.dense.bias', 'swin.encoder.layers.0.blocks.1.attention.self.value.weight', 'swin.encoder.layers.2.blocks.8.attention.self.query.bias', 'swin.encoder.layers.3.blocks.1.attention.self.value.bias', 'swin.encoder.layers.2.blocks.12.intermediate.dense.weight', 'swin.encoder.layers.2.blocks.3.layernorm_after.weight', 'swin.encoder.layers.2.blocks.13.layernorm_before.bias', 'swin.encoder.layers.1.downsample.reduction.weight', 'swin.encoder.layers.2.blocks.14.attention.self.key.weight', 'swin.encoder.layers.2.blocks.12.attention.self.value.bias', 'swin.encoder.layers.2.blocks.17.layernorm_after.bias', 'swin.encoder.layers.2.blocks.11.layernorm_before.bias', 'swin.encoder.layers.0.blocks.0.layernorm_after.weight', 'swin.encoder.layers.2.blocks.16.layernorm_after.weight', 'swin.encoder.layers.3.blocks.0.intermediate.dense.weight', 'swin.encoder.layers.2.blocks.5.attention.self.value.weight', 'swin.encoder.layers.2.blocks.14.layernorm_before.bias', 'swin.encoder.layers.2.blocks.1.layernorm_before.weight', 'swin.encoder.layers.2.blocks.14.layernorm_after.weight', 'swin.encoder.layers.2.blocks.0.attention.self.value.bias', 'swin.encoder.layers.0.blocks.0.attention.self.relative_position_index', 'swin.encoder.layers.2.blocks.8.intermediate.dense.bias', 'swin.encoder.layers.2.blocks.16.attention.self.key.bias', 'swin.encoder.layers.2.blocks.6.attention.output.dense.weight', 'swin.encoder.layers.2.blocks.16.intermediate.dense.weight', 'swin.embeddings.patch_embeddings.projection.weight', 'swin.encoder.layers.2.blocks.15.attention.self.value.bias', 'swin.encoder.layers.0.blocks.1.output.dense.bias', 'swin.encoder.layers.2.blocks.1.attention.self.relative_position_bias_table', 'swin.encoder.layers.0.blocks.0.attention.self.query.weight', 'swin.encoder.layers.2.blocks.7.intermediate.dense.weight', 'swin.encoder.layers.2.blocks.11.attention.self.relative_position_index', 'swin.encoder.layers.2.blocks.9.attention.self.query.weight', 'swin.encoder.layers.1.blocks.0.layernorm_before.weight', 'swin.encoder.layers.1.blocks.1.attention.self.key.weight', 'swin.encoder.layers.2.blocks.4.attention.self.relative_position_index', 'swin.encoder.layers.2.blocks.12.output.dense.weight', 'swin.encoder.layers.2.blocks.17.layernorm_before.weight', 'swin.encoder.layers.2.blocks.2.attention.self.query.bias', 'swin.encoder.layers.2.blocks.16.attention.self.query.weight', 'swin.encoder.layers.3.blocks.0.layernorm_after.bias', 'swin.encoder.layers.3.blocks.1.attention.self.query.weight', 'swin.encoder.layers.2.blocks.6.layernorm_after.bias', 'swin.encoder.layers.2.blocks.6.layernorm_before.weight', 'swin.encoder.layers.0.blocks.0.layernorm_after.bias', 'swin.encoder.layers.1.blocks.0.intermediate.dense.bias', 'swin.encoder.layers.1.blocks.0.intermediate.dense.weight', 'swin.encoder.layers.2.blocks.4.attention.self.query.bias', 'swin.encoder.layers.2.blocks.4.intermediate.dense.weight', 'swin.encoder.layers.1.blocks.0.attention.self.relative_position_bias_table', 'swin.encoder.layers.2.blocks.16.attention.self.key.weight', 'swin.encoder.layers.2.blocks.17.attention.self.value.bias', 'swin.encoder.layers.2.blocks.2.attention.self.relative_position_index', 'swin.encoder.layers.3.blocks.1.layernorm_after.weight', 'swin.encoder.layers.2.blocks.5.layernorm_after.bias', 'swin.encoder.layers.1.blocks.1.attention.self.query.weight', 'swin.encoder.layers.3.blocks.0.attention.self.query.bias', 'swin.encoder.layers.1.blocks.1.attention.output.dense.weight', 'swin.encoder.layers.2.blocks.0.layernorm_before.weight', 'swin.encoder.layers.3.blocks.1.attention.self.key.weight', 'swin.encoder.layers.2.blocks.17.intermediate.dense.bias', 'swin.encoder.layers.2.blocks.6.attention.self.query.bias', 'swin.encoder.layers.2.blocks.5.attention.self.value.bias', 'swin.encoder.layers.1.blocks.1.attention.output.dense.bias', 'swin.encoder.layers.0.blocks.0.attention.output.dense.bias', 'swin.encoder.layers.2.blocks.3.layernorm_before.weight', 'swin.encoder.layers.2.blocks.9.output.dense.weight', 'swin.encoder.layers.2.blocks.5.layernorm_after.weight', 'swin.encoder.layers.3.blocks.1.attention.output.dense.bias', 'swin.encoder.layers.0.blocks.0.attention.self.value.bias', 'swin.encoder.layers.2.blocks.4.attention.self.key.weight', 'swin.encoder.layers.2.blocks.10.intermediate.dense.weight', 'swin.encoder.layers.2.blocks.15.attention.output.dense.weight', 'swin.encoder.layers.2.blocks.13.attention.output.dense.bias', 'swin.encoder.layers.3.blocks.0.output.dense.weight', 'swin.encoder.layers.1.blocks.1.attention.self.value.weight', 'swin.encoder.layers.2.blocks.6.attention.self.key.weight', 'swin.encoder.layers.1.blocks.0.layernorm_before.bias', 'swin.encoder.layers.1.blocks.1.layernorm_before.bias', 'swin.encoder.layers.2.blocks.0.attention.output.dense.weight', 'swin.encoder.layers.1.blocks.1.attention.self.query.bias', 'swin.encoder.layers.2.blocks.13.layernorm_before.weight', 'swin.encoder.layers.1.blocks.0.layernorm_after.bias', 'swin.encoder.layers.3.blocks.1.attention.self.relative_position_bias_table', 'swin.encoder.layers.1.blocks.1.layernorm_after.weight', 'swin.encoder.layers.3.blocks.1.layernorm_after.bias', 'swin.encoder.layers.2.blocks.0.attention.self.query.weight', 'swin.encoder.layers.2.blocks.8.intermediate.dense.weight', 'swin.encoder.layers.2.blocks.1.attention.self.query.bias', 'swin.encoder.layers.2.blocks.16.attention.output.dense.weight', 'swin.encoder.layers.2.blocks.5.intermediate.dense.weight']\n",
      "You should probably TRAIN this model on a down-stream task to be able to use it for predictions and inference.\n"
     ]
    }
   ],
   "source": [
    "from multipage_classifier.encoder.swin_encoder import SwinEncoder, SwinEncoderConfig\n",
    "\n",
    "PRETRAINED_MODEL = \"microsoft/swinv2-small-patch4-window8-256\"\n",
    "IMAGE_SIZE = (704, 512) # height, width TODO 1024, 1408\n",
    "swin_config = SwinEncoderConfig(\n",
    "        image_size=IMAGE_SIZE, \n",
    "        pretrained_model_name_or_path=PRETRAINED_MODEL\n",
    "    )\n",
    "model = SwinEncoder(swin_config)"
   ]
  },
  {
   "cell_type": "code",
   "execution_count": 4,
   "metadata": {},
   "outputs": [],
   "source": [
    "classes = [c for c in json.load(open(CLASS_PATH))]\n",
    "\n",
    "data_module = MosaicDataModule(Path(DATASET_PATH), classes, model.prepare_input, batch_size=BATCH_SIZE, max_pages=MAX_PAGES, num_workers=NUM_WORKERS)\n",
    "\n",
    "data_module.prepare_data()\n",
    "data_module.setup()"
   ]
  },
  {
   "cell_type": "code",
   "execution_count": 17,
   "metadata": {},
   "outputs": [],
   "source": [
    "id2class = {idx: str(label) for idx, label in enumerate(classes)}\n",
    "\n",
    "target = [\"antrag.formlos\", \"antrag.formblattantrag.hilfe_zur_pflege\", \"vermoegen.vermoegenserklaerung\"]\n",
    "for idx, sample in enumerate(data_module.train_dataloader()):\n",
    "    doc_classes = [id2class[cls.item()] for cls in sample[\"doc_class\"]]\n",
    "    if all(c in doc_classes for c in target):\n",
    "        print(idx, doc_classes)"
   ]
  },
  {
   "cell_type": "code",
   "execution_count": 18,
   "metadata": {},
   "outputs": [
    {
     "data": {
      "text/plain": [
       "[True, True, True]"
      ]
     },
     "execution_count": 18,
     "metadata": {},
     "output_type": "execute_result"
    }
   ],
   "source": [
    "[c in classes for c in target]"
   ]
  },
  {
   "cell_type": "code",
   "execution_count": 6,
   "metadata": {},
   "outputs": [
    {
     "data": {
      "text/plain": [
       "tensor([0, 0, 1, 2])"
      ]
     },
     "execution_count": 6,
     "metadata": {},
     "output_type": "execute_result"
    }
   ],
   "source": [
    "batch[\"doc_id\"]"
   ]
  },
  {
   "cell_type": "code",
   "execution_count": 7,
   "metadata": {},
   "outputs": [
    {
     "data": {
      "text/plain": [
       "1"
      ]
     },
     "execution_count": 7,
     "metadata": {},
     "output_type": "execute_result"
    }
   ],
   "source": [
    "from transformers import MBartConfig, MBartForCausalLM, MBartTokenizer\n",
    "\n",
    "tokenizer: MBartTokenizer = MBartTokenizer.from_pretrained(\"facebook/mbart-large-en-ro\")\n",
    "tokenizer.add_special_tokens({\"additional_special_tokens\": sorted(set([\"<sep/>\"]))})"
   ]
  },
  {
   "cell_type": "code",
   "execution_count": 11,
   "metadata": {},
   "outputs": [],
   "source": [
    "\n",
    "from typing import Any\n",
    "\n",
    "\n",
    "def json2token(\n",
    "    obj: Any,\n",
    "    update_special_tokens_for_json_key: bool = True,\n",
    "    sort_json_key: bool = True,\n",
    ") -> str:\n",
    "    \"\"\"\n",
    "    Convert an ordered JSON object into a token sequence\n",
    "    \"\"\"\n",
    "    if type(obj) == dict:\n",
    "        if len(obj) == 1 and \"text_sequence\" in obj:\n",
    "            return obj[\"text_sequence\"]\n",
    "        else:\n",
    "            output = \"\"\n",
    "            if sort_json_key:\n",
    "                keys = sorted(obj.keys(), reverse=True)\n",
    "            else:\n",
    "                keys = obj.keys()\n",
    "            for k in keys:\n",
    "                output += (\n",
    "                    rf\"<s_{k}>\"\n",
    "                    + json2token(\n",
    "                        obj[k], update_special_tokens_for_json_key, sort_json_key\n",
    "                    )\n",
    "                    + rf\"</s_{k}>\"\n",
    "                )\n",
    "            return output\n",
    "    elif type(obj) == list:\n",
    "        print(\"§FDDFSDFS\")\n",
    "        return r\"<sep/>\".join(\n",
    "            [\n",
    "                json2token(\n",
    "                    item, update_special_tokens_for_json_key, sort_json_key\n",
    "                )\n",
    "                for item in obj\n",
    "            ]\n",
    "        )\n",
    "    else:\n",
    "        obj = str(obj)\n",
    "        if f\"<{obj}/>\" in tokenizer.all_special_tokens:\n",
    "            obj = f\"<{obj}/>\"  # for categorical special tokens\n",
    "        return obj\n"
   ]
  },
  {
   "cell_type": "code",
   "execution_count": 12,
   "metadata": {},
   "outputs": [
    {
     "name": "stdout",
     "output_type": "stream",
     "text": [
      "§FDDFSDFS\n"
     ]
    },
    {
     "data": {
      "text/plain": [
       "'<s_doc_id>0</s_doc_id><s_doc_class>abc</s_doc_class><sep/><s_doc_id>0</s_doc_id><s_doc_class>abc</s_doc_class>'"
      ]
     },
     "execution_count": 12,
     "metadata": {},
     "output_type": "execute_result"
    }
   ],
   "source": [
    "json2token([{\"doc_id\": 0, \"doc_class\": \"abc\"}, {\"doc_id\": 0, \"doc_class\": \"abc\"}])"
   ]
  }
 ],
 "metadata": {
  "kernelspec": {
   "display_name": "multipage-classifier-xqyAVh0C-py3.10",
   "language": "python",
   "name": "python3"
  },
  "language_info": {
   "codemirror_mode": {
    "name": "ipython",
    "version": 3
   },
   "file_extension": ".py",
   "mimetype": "text/x-python",
   "name": "python",
   "nbconvert_exporter": "python",
   "pygments_lexer": "ipython3",
   "version": "3.11.1"
  },
  "orig_nbformat": 4
 },
 "nbformat": 4,
 "nbformat_minor": 2
}
