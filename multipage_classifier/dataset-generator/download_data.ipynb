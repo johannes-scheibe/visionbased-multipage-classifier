{
 "cells": [
  {
   "cell_type": "code",
   "execution_count": null,
   "metadata": {},
   "outputs": [],
   "source": [
    "from pathlib import Path\n",
    "from typing import List\n",
    "import json\n",
    "\n",
    "src_url='https://www.industrydocuments.ucsf.edu/food/results/#q=NOT%20type%3A(Email)&h=%7B%22hideDuplicates%22%3Atrue%2C%22hideFolders%22%3Atrue%2C%22hideRestricted%22%3Atrue%7D&subsite=food&cache=true&count=131964'\n",
    "num_pages = 25 # each page consists of 20 samples\n",
    "\n",
    "res_path = \"../dataset/ucsf-idl-resized-without_emails\"\n",
    "\n",
    "(Path(res_path) / \"images\").mkdir(exist_ok=True, parents=True)"
   ]
  },
  {
   "cell_type": "code",
   "execution_count": null,
   "metadata": {},
   "outputs": [],
   "source": [
    "from scraper import scrape_url\n",
    "\n",
    "samples = scrape_url(src_url, num_pages=num_pages)\n"
   ]
  },
  {
   "cell_type": "code",
   "execution_count": null,
   "metadata": {},
   "outputs": [],
   "source": [
    "from PIL import Image\n",
    "\n",
    "def resize_image(img: Image.Image, width=None, height=None):\n",
    "    \"\"\"Resizes a PIL image to fit within a maximum size while maintaining its aspect ratio.\n",
    "    \n",
    "    Args:\n",
    "        image_path (str): Path to the input image file.\n",
    "        width (int or None): The maximum width of the output image. If None, the width is calculated based on the height.\n",
    "        height (int or None): The maximum height of the output image. If None, the height is calculated based on the width.\n",
    "    \n",
    "    Returns:\n",
    "        PIL.Image: The resized image.\n",
    "    \"\"\"\n",
    "    \n",
    "    # Get the original size of the image\n",
    "    orig_width, orig_height = img.size\n",
    "\n",
    "    # Calculate the new size that maintains the aspect ratio\n",
    "    if width is not None and height is not None:\n",
    "        # If both width and height are specified, use them directly\n",
    "        new_width, new_height = width, height\n",
    "    elif width is not None:\n",
    "        # If only width is specified, calculate height based on aspect ratio\n",
    "        new_width, new_height = width, int(orig_height * (width / orig_width))\n",
    "    elif height is not None:\n",
    "        # If only height is specified, calculate width based on aspect ratio\n",
    "        new_width, new_height = int(orig_width * (height / orig_height)), height\n",
    "    else:\n",
    "        # If neither width nor height is specified, return the original image\n",
    "        return img\n",
    "\n",
    "    # Resize the image\n",
    "    resized_image = img.resize((new_width, new_height))\n",
    "\n",
    "    return resized_image\n"
   ]
  },
  {
   "cell_type": "code",
   "execution_count": null,
   "metadata": {},
   "outputs": [],
   "source": [
    "from tqdm import tqdm\n",
    "import requests\n",
    "from pdf2image import convert_from_bytes\n",
    "\n",
    "for sample in tqdm(samples):\n",
    "    id = sample[\"id\"]\n",
    "    download_url = sample[\"download_url\"]\n",
    "\n",
    "    img_folder = Path(\"images\") / str(id)\n",
    "    img_path = Path(res_path) / img_folder\n",
    "    img_path.mkdir(exist_ok=True, parents=True)\n",
    "\n",
    "    sample[\"image_folder\"] = str(img_folder)\n",
    "\n",
    "    r = requests.get(download_url, allow_redirects=True)\n",
    "    bytes = r.content\n",
    "\n",
    "    #convert to img and save\n",
    "    images = convert_from_bytes(bytes)\n",
    "    for i, img in enumerate(images):\n",
    "        img = resize_image(img, width=1000)\n",
    "        img.save(img_path / f\"page_{i}.jpg\", \"JPEG\")\n",
    "\n",
    "json.dump(samples, open(Path(res_path) / \"samples.json\", \"w+\"))"
   ]
  }
 ],
 "metadata": {
  "kernelspec": {
   "display_name": "multipage-dataset-generator-h5uR4NC4-py3.10",
   "language": "python",
   "name": "python3"
  },
  "language_info": {
   "codemirror_mode": {
    "name": "ipython",
    "version": 3
   },
   "file_extension": ".py",
   "mimetype": "text/x-python",
   "name": "python",
   "nbconvert_exporter": "python",
   "pygments_lexer": "ipython3",
   "version": "3.10.9"
  },
  "orig_nbformat": 4,
  "vscode": {
   "interpreter": {
    "hash": "e8ebd2b601aa59836da7b72de9ffc29343fcb5a569528eda6323cf249a4bb2b3"
   }
  }
 },
 "nbformat": 4,
 "nbformat_minor": 2
}
