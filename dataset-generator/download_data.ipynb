{
 "cells": [
  {
   "cell_type": "code",
   "execution_count": 1,
   "metadata": {},
   "outputs": [],
   "source": [
    "from pathlib import Path\n",
    "from typing import List\n",
    "import json\n",
    "\n",
    "src_url='https://www.industrydocuments.ucsf.edu/food/results/#q=*%3A*&h=%7B%22hideDuplicates%22%3Afalse%2C%22hideFolders%22%3Atrue%7D&subsite=food&cache=true&count=164846'\n",
    "num_pages = 25 # each page consists of 20 samples\n",
    "\n",
    "res_path = \"../dataset/ucsf-idl\"\n",
    "\n",
    "(Path(res_path) / \"images\").mkdir(exist_ok=True, parents=True)"
   ]
  },
  {
   "cell_type": "code",
   "execution_count": 2,
   "metadata": {},
   "outputs": [],
   "source": [
    "from scraper import scrape_url\n",
    "\n",
    "samples = scrape_url(src_url, num_pages=num_pages)\n"
   ]
  },
  {
   "cell_type": "code",
   "execution_count": null,
   "metadata": {},
   "outputs": [
    {
     "name": "stderr",
     "output_type": "stream",
     "text": [
      "100%|██████████| 500/500 [16:33<00:00,  1.99s/it]\n"
     ]
    }
   ],
   "source": [
    "from tqdm import tqdm\n",
    "import requests\n",
    "from pdf2image import convert_from_bytes\n",
    "\n",
    "for sample in tqdm(samples):\n",
    "    id = sample[\"id\"]\n",
    "    download_url = sample[\"download_url\"]\n",
    "\n",
    "    img_folder = Path(\"images\") / str(id)\n",
    "    img_path = Path(res_path) / img_folder\n",
    "    img_path.mkdir(exist_ok=True, parents=True)\n",
    "\n",
    "    sample[\"image_folder\"] = str(img_folder)\n",
    "\n",
    "    r = requests.get(download_url, allow_redirects=True)\n",
    "    bytes = r.content\n",
    "\n",
    "    #convert to img and save\n",
    "    images = convert_from_bytes(bytes)\n",
    "    for i, img in enumerate(images):\n",
    "        img.save(img_path / f\"page_{i}.jpg\", \"JPEG\")\n"
   ]
  },
  {
   "cell_type": "code",
   "execution_count": 11,
   "metadata": {},
   "outputs": [],
   "source": [
    "# Create labels \n",
    "\n",
    "import json\n",
    "\n",
    "\n",
    "allowed_types = [\"email\", \"letter\", \"agenda\", \"comments\", \"report\", \"conference proceedings\", \"article\", \"memo\", 'photograph']\n",
    "allowed_num_types = 1\n",
    "\n",
    "\n",
    "samples = json.load(open( Path(res_path) / \"samples.json\"))\n",
    "\n",
    "labels = []\n",
    "for sample in samples:\n",
    "    label = {}\n",
    "    label[\"id\"] = sample[\"id\"]\n",
    "\n",
    "    if \"img_path\" in sample:\n",
    "        label[\"image_folder\"] = sample[\"image_folder\"]\n",
    "    else:\n",
    "        label[\"image_folder\"] = str(Path(\"images\") / str(sample[\"id\"]))\n",
    "\n",
    "    label[\"pages\"] = sample[\"pages\"]    \n",
    "    \n",
    "    types = sample[\"type\"].replace(\",\", \"\").replace(\";\", \"\").split(\" \")\n",
    "    types = [types] if len(types)== 0 else types\n",
    "    \n",
    "    # Filter with type count\n",
    "    filtered_types = [t for t in types if t in allowed_types]\n",
    "    if len(filtered_types) == allowed_num_types:\n",
    "        label[\"type\"] = filtered_types[0] \n",
    "    else:\n",
    "        continue\n",
    "\n",
    "    labels.append(label)\n",
    "\n",
    "# overwrite labels  \n",
    "json.dump(labels, open(Path(res_path) / \"labels.json\", \"w+\"))"
   ]
  }
 ],
 "metadata": {
  "kernelspec": {
   "display_name": "multipage-dataset-generator-h5uR4NC4-py3.10",
   "language": "python",
   "name": "python3"
  },
  "language_info": {
   "codemirror_mode": {
    "name": "ipython",
    "version": 3
   },
   "file_extension": ".py",
   "mimetype": "text/x-python",
   "name": "python",
   "nbconvert_exporter": "python",
   "pygments_lexer": "ipython3",
   "version": "3.10.9"
  },
  "orig_nbformat": 4,
  "vscode": {
   "interpreter": {
    "hash": "e8ebd2b601aa59836da7b72de9ffc29343fcb5a569528eda6323cf249a4bb2b3"
   }
  }
 },
 "nbformat": 4,
 "nbformat_minor": 2
}
