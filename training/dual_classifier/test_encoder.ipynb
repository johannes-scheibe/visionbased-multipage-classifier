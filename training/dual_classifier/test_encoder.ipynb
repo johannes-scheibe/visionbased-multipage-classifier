{
 "cells": [
  {
   "cell_type": "code",
   "execution_count": 2,
   "metadata": {},
   "outputs": [
    {
     "name": "stderr",
     "output_type": "stream",
     "text": [
      "/data/training/pypoetry/virtualenvs/multipage-classifier-training-o8JTDpqF-py3.11/lib/python3.11/site-packages/tqdm/auto.py:21: TqdmWarning: IProgress not found. Please update jupyter and ipywidgets. See https://ipywidgets.readthedocs.io/en/stable/user_install.html\n",
      "  from .autonotebook import tqdm as notebook_tqdm\n"
     ]
    }
   ],
   "source": [
    "import json\n",
    "from pathlib import Path\n",
    "\n",
    "import pytorch_lightning as pl\n",
    "import torch\n",
    "from multipage_classifier.datasets.mosaic_dataset import MosaicDataModule\n",
    "from multipage_classifier.encoder.swin_encoder import SwinEncoderConfig\n",
    "from pytorch_lightning.callbacks import ModelCheckpoint\n",
    "from pytorch_lightning.loggers import TensorBoardLogger\n",
    "from swin_encoder.lightning_module import SwinEncoderPLModule"
   ]
  },
  {
   "cell_type": "code",
   "execution_count": 3,
   "metadata": {},
   "outputs": [],
   "source": [
    "\n",
    "EMBEDDER_MODEL = \"/data/training/master_thesis/lightning_logs/swin_encoder/version_2/checkpoints/best-checkpoint.ckpt\"\n",
    "\n",
    "DATASET_PATH = \"/data/training/master_thesis/datasets/2023-05-23\"\n",
    "CLASS_PATH = \"/data/training/master_thesis/datasets/bzuf_classes.json\"\n",
    "\n",
    "\n",
    "MAX_PAGES = 8\n",
    "BATCH_SIZE = 1\n"
   ]
  },
  {
   "cell_type": "code",
   "execution_count": 4,
   "metadata": {},
   "outputs": [
    {
     "name": "stderr",
     "output_type": "stream",
     "text": [
      "Some weights of SwinModel were not initialized from the model checkpoint at /data/training/master_thesis/models/donut-encoder and are newly initialized: ['layernorm.bias', 'layernorm.weight']\n",
      "You should probably TRAIN this model on a down-stream task to be able to use it for predictions and inference.\n"
     ]
    }
   ],
   "source": [
    "# Load Embedder\n",
    "encoder_module = SwinEncoderPLModule.load_from_checkpoint(EMBEDDER_MODEL)\n",
    "encoder_module = encoder_module.eval()\n"
   ]
  },
  {
   "cell_type": "code",
   "execution_count": 5,
   "metadata": {},
   "outputs": [],
   "source": [
    "# Define data module\n",
    "classes = [c for c in json.load(open(CLASS_PATH))]\n",
    "data_module = MosaicDataModule(Path(DATASET_PATH), classes, encoder_module.encoder.prepare_input, batch_size=BATCH_SIZE, max_pages=MAX_PAGES)\n",
    "\n",
    "data_module.prepare_data()\n",
    "data_module.setup()"
   ]
  },
  {
   "cell_type": "code",
   "execution_count": 6,
   "metadata": {},
   "outputs": [],
   "source": [
    "ds = iter(data_module.test_dataloader())\n",
    "n = 4\n",
    "for _ in range(n):\n",
    "    sample = next(ds)\n",
    "    "
   ]
  },
  {
   "cell_type": "code",
   "execution_count": 7,
   "metadata": {},
   "outputs": [
    {
     "data": {
      "text/plain": [
       "torch.Size([8, 3, 704, 512])"
      ]
     },
     "execution_count": 7,
     "metadata": {},
     "output_type": "execute_result"
    }
   ],
   "source": [
    "sample[\"pixel_values\"].size()"
   ]
  },
  {
   "cell_type": "code",
   "execution_count": 8,
   "metadata": {},
   "outputs": [],
   "source": [
    "pred, gt, loss = encoder_module.step(sample)"
   ]
  },
  {
   "cell_type": "code",
   "execution_count": 9,
   "metadata": {},
   "outputs": [
    {
     "data": {
      "text/plain": [
       "tensor([[3, 0, 0, 0, 0, 0, 0, 0],\n",
       "        [0, 3, 0, 0, 0, 0, 0, 0],\n",
       "        [0, 0, 3, 1, 1, 1, 1, 1],\n",
       "        [0, 0, 2, 3, 1, 1, 1, 1],\n",
       "        [0, 0, 2, 2, 3, 1, 1, 1],\n",
       "        [0, 0, 2, 2, 2, 3, 1, 1],\n",
       "        [0, 0, 2, 2, 2, 2, 3, 1],\n",
       "        [0, 0, 2, 2, 2, 2, 2, 3]])"
      ]
     },
     "execution_count": 9,
     "metadata": {},
     "output_type": "execute_result"
    }
   ],
   "source": [
    "gt[\"order\"].view(-1, len(sample[\"pixel_values\"]))"
   ]
  },
  {
   "cell_type": "code",
   "execution_count": 10,
   "metadata": {},
   "outputs": [
    {
     "data": {
      "text/plain": [
       "tensor([[3, 0, 0, 0, 0, 0, 0, 0],\n",
       "        [0, 3, 0, 0, 0, 0, 0, 0],\n",
       "        [0, 0, 3, 1, 1, 1, 1, 1],\n",
       "        [0, 0, 2, 3, 2, 2, 2, 1],\n",
       "        [0, 0, 2, 1, 3, 1, 1, 1],\n",
       "        [0, 0, 2, 1, 2, 3, 1, 3],\n",
       "        [0, 0, 2, 2, 2, 2, 3, 2],\n",
       "        [0, 0, 2, 2, 2, 3, 1, 3]])"
      ]
     },
     "execution_count": 10,
     "metadata": {},
     "output_type": "execute_result"
    }
   ],
   "source": [
    "bs = len(pred[\"class\"])\n",
    "order = torch.exp(pred[\"order\"])\n",
    "order = order.view(-1, bs, 4)\n",
    "\n",
    "order.argmax(2)"
   ]
  },
  {
   "cell_type": "code",
   "execution_count": 11,
   "metadata": {},
   "outputs": [
    {
     "data": {
      "text/plain": [
       "tensor([0, 1, 2, 2, 2, 2, 2, 2])"
      ]
     },
     "execution_count": 11,
     "metadata": {},
     "output_type": "execute_result"
    }
   ],
   "source": [
    "from sklearn.cluster import DBSCAN\n",
    "\n",
    "cluster_prediction = DBSCAN(\n",
    "    min_samples=1, metric=\"precomputed\"\n",
    ")\n",
    "\n",
    "doc_id_probs = order[:, :, 0] # just take 0 dim \"None\" and invert\n",
    "\n",
    "# make symetric\n",
    "doc_id_probs = (doc_id_probs + doc_id_probs.transpose(1, 0)) / (2)\n",
    "\n",
    "doc_ids = cluster_prediction.fit_predict(doc_id_probs.cpu().data.numpy())\n",
    "doc_ids = torch.tensor(doc_ids)\n",
    "\n",
    "doc_ids"
   ]
  },
  {
   "cell_type": "code",
   "execution_count": 12,
   "metadata": {},
   "outputs": [
    {
     "data": {
      "text/plain": [
       "torch.Size([8, 8, 4])"
      ]
     },
     "execution_count": 12,
     "metadata": {},
     "output_type": "execute_result"
    }
   ],
   "source": [
    "order.size()"
   ]
  },
  {
   "cell_type": "code",
   "execution_count": null,
   "metadata": {},
   "outputs": [],
   "source": []
  },
  {
   "cell_type": "code",
   "execution_count": 22,
   "metadata": {},
   "outputs": [
    {
     "name": "stdout",
     "output_type": "stream",
     "text": [
      "\n",
      "sub\n",
      "tensor([[0]])\n",
      "defaultdict(<class 'list'>, {})\n",
      "[0]\n",
      "\n",
      "sub\n",
      "tensor([[0]])\n",
      "defaultdict(<class 'list'>, {})\n",
      "[0]\n",
      "\n",
      "sub\n",
      "tensor([[0, 0, 0, 0, 0, 0],\n",
      "        [1, 0, 1, 1, 0, 0],\n",
      "        [1, 0, 0, 0, 0, 0],\n",
      "        [1, 0, 1, 0, 0, 0],\n",
      "        [1, 1, 1, 1, 0, 1],\n",
      "        [1, 1, 1, 1, 0, 0]])\n",
      "defaultdict(<class 'list'>, {0: [1, 2, 3, 4, 5, 1, 2, 3, 4, 5], 2: [1, 1, 3, 4, 5, 3, 4, 5], 3: [1, 1, 4, 5, 4, 5], 1: [4, 5, 4, 5], 5: [4, 4]})\n",
      "[0, 2, 3, 1, 5, 4]\n"
     ]
    }
   ],
   "source": [
    "from collections import defaultdict, deque\n",
    "\n",
    "\n",
    "for doc_id in torch.unique(doc_ids):\n",
    "    print()\n",
    "    print(\"sub\")\n",
    "    indices = torch.nonzero(doc_ids == doc_id).reshape(-1)\n",
    "    sub_order_mat =  order[indices][:, indices]   \n",
    "\n",
    "    page_nr_probs = sub_order_mat[:, :, 1:3] \n",
    "    # Make \"page order symetric\": 0 maps to 1 and the other way arround\n",
    "    bs = len(page_nr_probs)\n",
    "    for i in range(bs):\n",
    "        for j in range(i, bs):\n",
    "            avg = (page_nr_probs[i, j] + page_nr_probs[j, i].flip(0)) / 2\n",
    "            page_nr_probs[i, j] = avg\n",
    "            page_nr_probs[j, i] = avg.flip(0)\n",
    "\n",
    "    page_nr_preds = page_nr_probs.argmax(2)\n",
    "    print(page_nr_preds)\n",
    "\n",
    "    # Create a graph representation using a dictionary\n",
    "    graph = defaultdict(list)\n",
    "    for i in range(bs):\n",
    "        for j in range(i, bs):\n",
    "            if i != j:\n",
    "                if page_nr_preds[i, j] == 0:  # i is predecessor\n",
    "                    graph[i].append(j)\n",
    "                elif page_nr_preds[i, j] == 1:  # i is successor\n",
    "                    graph[j].append(i)\n",
    "    print(graph)\n",
    "    # Count the numbner of incomming edges\n",
    "    in_degree = [0] * bs\n",
    "    for node, neighbors in graph.items():\n",
    "        for neighbor in neighbors:\n",
    "            in_degree[neighbor] += 1\n",
    "    \n",
    "    # List of \"start nodes\" which have no incoming edges\n",
    "    queue = deque([node for node, degree in enumerate(in_degree) if degree == 0])\n",
    "    \n",
    "    topological_order: list[int] = []\n",
    "    while queue:\n",
    "        node = queue.popleft()\n",
    "        topological_order.append(node)\n",
    "\n",
    "        for neighbor in graph[node]:\n",
    "            in_degree[neighbor] -= 1\n",
    "            if in_degree[neighbor] == 0:\n",
    "                queue.append(neighbor)\n",
    "    print(topological_order)\n",
    "    "
   ]
  },
  {
   "cell_type": "code",
   "execution_count": null,
   "metadata": {},
   "outputs": [],
   "source": [
    "order_matrix = sub_mat"
   ]
  },
  {
   "cell_type": "code",
   "execution_count": null,
   "metadata": {},
   "outputs": [
    {
     "data": {
      "text/plain": [
       "tensor([0, 2, 3, 1, 5, 4])"
      ]
     },
     "execution_count": 68,
     "metadata": {},
     "output_type": "execute_result"
    }
   ],
   "source": [
    "# extract \"pred\" and \"succ\" prediction. NOTE this changes the indices -> [\"Pred\", \"Succ\"]\n",
    "page_nr_probs = order_matrix[:, :, 1:3] \n",
    "\n",
    "# Make \"page order symetric\": 0 maps to 1 and the other way arround\n",
    "bs = len(page_nr_probs)\n",
    "for i in range(bs):\n",
    "    for j in range(i, bs):\n",
    "        avg = (page_nr_probs[i, j] + page_nr_probs[j, i].flip(0)) / 2\n",
    "        page_nr_probs[i, j] = avg\n",
    "        page_nr_probs[j, i] = avg.flip(0)\n",
    "\n",
    "page_nr_preds = page_nr_probs.argmax(2)\n",
    "\n",
    "# Create a graph representation using a dictionary\n",
    "graph = defaultdict(list)\n",
    "for i in range(bs):\n",
    "    for j in range(bs):\n",
    "        if i != j:\n",
    "            if page_nr_preds[i, j] == 0:  # i is predecessor\n",
    "                graph[i].append(j)\n",
    "            elif page_nr_preds[i, j] == 1:  # i is successor\n",
    "                graph[j].append(i)\n",
    "\n",
    "# Perform topological sorting using Kahn's algorithm\n",
    "\n",
    "# Count the numbner of incomming edges\n",
    "in_degree = [0] * bs\n",
    "for node, neighbors in graph.items():\n",
    "    for neighbor in neighbors:\n",
    "        in_degree[neighbor] += 1\n",
    "\n",
    "# List of \"start nodes\" which have no incoming edges\n",
    "queue = deque([node for node, degree in enumerate(in_degree) if degree == 0])\n",
    "\n",
    "topological_order = []\n",
    "while queue:\n",
    "    node = queue.popleft()\n",
    "    topological_order.append(node)\n",
    "\n",
    "    for neighbor in graph[node]:\n",
    "        in_degree[neighbor] -= 1\n",
    "        if in_degree[neighbor] == 0:\n",
    "            queue.append(neighbor)\n",
    "\n",
    "torch.tensor(topological_order)"
   ]
  },
  {
   "cell_type": "code",
   "execution_count": null,
   "metadata": {},
   "outputs": [],
   "source": [
    "page_nr_probs = order[:, :, 1:3]"
   ]
  },
  {
   "cell_type": "code",
   "execution_count": null,
   "metadata": {},
   "outputs": [],
   "source": [
    "bs = len(sample[\"pixel_values\"])\n",
    "for i in range(bs):\n",
    "    for j in range(i, bs):\n",
    "        avg = (page_nr_probs[i, j] + page_nr_probs[j, i].flip(0)) / 2\n",
    "        page_nr_probs[i, j] = avg\n",
    "        page_nr_probs[j, i] = avg.flip(0)\n"
   ]
  },
  {
   "cell_type": "code",
   "execution_count": null,
   "metadata": {},
   "outputs": [
    {
     "data": {
      "text/plain": [
       "tensor([[0, 0, 0, 0, 0, 0],\n",
       "        [1, 0, 1, 1, 0, 0],\n",
       "        [1, 0, 0, 0, 0, 0],\n",
       "        [1, 0, 1, 0, 0, 0],\n",
       "        [1, 1, 1, 1, 0, 1],\n",
       "        [1, 1, 1, 1, 0, 0]])"
      ]
     },
     "execution_count": 17,
     "metadata": {},
     "output_type": "execute_result"
    }
   ],
   "source": [
    "prediction_matrix = page_nr_probs[2:, 2:].argmax(2)\n",
    "prediction_matrix"
   ]
  },
  {
   "cell_type": "code",
   "execution_count": null,
   "metadata": {},
   "outputs": [
    {
     "ename": "NameError",
     "evalue": "name 'S' is not defined",
     "output_type": "error",
     "traceback": [
      "\u001b[0;31m---------------------------------------------------------------------------\u001b[0m",
      "\u001b[0;31mNameError\u001b[0m                                 Traceback (most recent call last)",
      "Cell \u001b[0;32mIn[18], line 30\u001b[0m\n\u001b[1;32m     27\u001b[0m queue \u001b[39m=\u001b[39m deque([node \u001b[39mfor\u001b[39;00m node, degree \u001b[39min\u001b[39;00m \u001b[39menumerate\u001b[39m(in_degree) \u001b[39mif\u001b[39;00m degree \u001b[39m==\u001b[39m \u001b[39m0\u001b[39m])\n\u001b[1;32m     28\u001b[0m topological_order \u001b[39m=\u001b[39m []\n\u001b[0;32m---> 30\u001b[0m \u001b[39mwhile\u001b[39;00m S:\n\u001b[1;32m     31\u001b[0m     node \u001b[39m=\u001b[39m queue\u001b[39m.\u001b[39mpopleft()\n\u001b[1;32m     32\u001b[0m     topological_order\u001b[39m.\u001b[39mappend(node)\n",
      "\u001b[0;31mNameError\u001b[0m: name 'S' is not defined"
     ]
    }
   ],
   "source": [
    "import numpy as np\n",
    "from collections import defaultdict, deque\n",
    "\n",
    "n = len(prediction_matrix)\n",
    "\n",
    "graph = defaultdict(list)\n",
    "for i in range(n):\n",
    "    for j in range(i, n): # \"symetric\" in the page order way: 0 -> 1 and 1 -> 0\n",
    "        if i != j:\n",
    "            if prediction_matrix[i, j] == 1:  # Predecessor\n",
    "                graph[i].append(j)\n",
    "            elif prediction_matrix[i, j] == 0:  # Successor\n",
    "                graph[j].append(i)\n",
    "\n",
    "\n",
    "# Perform topological sorting using Kahn's algorithm\n",
    "\n",
    "\n",
    "# Count the numbner of incomming edges\n",
    "in_degree = [0] * n\n",
    "for node, neighbors in graph.items():\n",
    "    for neighbor in neighbors:\n",
    "        in_degree[neighbor] += 1\n",
    "\n",
    "\n",
    "# List of \"start nodes\" which have no incoming edges\n",
    "queue = deque([node for node, degree in enumerate(in_degree) if degree == 0])\n",
    "topological_order = []\n",
    "\n",
    "while S:\n",
    "    node = queue.popleft()\n",
    "    topological_order.append(node)\n",
    "\n",
    "    for neighbor in graph[node]:\n",
    "        in_degree[neighbor] -= 1\n",
    "        if in_degree[neighbor] == 0:\n",
    "            queue.append(neighbor)\n"
   ]
  },
  {
   "cell_type": "code",
   "execution_count": null,
   "metadata": {},
   "outputs": [
    {
     "data": {
      "text/plain": [
       "{1: [0, 2, 3], 2: [0], 3: [0, 2], 4: [0, 1, 2, 3, 5], 5: [0, 1, 2, 3]}"
      ]
     },
     "execution_count": 66,
     "metadata": {},
     "output_type": "execute_result"
    }
   ],
   "source": [
    "dict(sorted(graph.items()))"
   ]
  }
 ],
 "metadata": {
  "kernelspec": {
   "display_name": "multipage-classifier-training-AUw5wBFA-py3.10",
   "language": "python",
   "name": "python3"
  },
  "language_info": {
   "codemirror_mode": {
    "name": "ipython",
    "version": 3
   },
   "file_extension": ".py",
   "mimetype": "text/x-python",
   "name": "python",
   "nbconvert_exporter": "python",
   "pygments_lexer": "ipython3",
   "version": "3.11.1"
  },
  "orig_nbformat": 4,
  "vscode": {
   "interpreter": {
    "hash": "3ac4961f1a54f42faafdec5556e4f4c3e1beb539dc12fb47f919b6f0d50a14ba"
   }
  }
 },
 "nbformat": 4,
 "nbformat_minor": 2
}
