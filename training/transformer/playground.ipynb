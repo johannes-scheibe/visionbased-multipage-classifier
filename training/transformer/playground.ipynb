{
 "cells": [
  {
   "cell_type": "code",
   "execution_count": 1,
   "metadata": {},
   "outputs": [
    {
     "name": "stderr",
     "output_type": "stream",
     "text": [
      "/data/training/pypoetry/virtualenvs/multipage-classifier-training-o8JTDpqF-py3.10/lib/python3.10/site-packages/tqdm/auto.py:21: TqdmWarning: IProgress not found. Please update jupyter and ipywidgets. See https://ipywidgets.readthedocs.io/en/stable/user_install.html\n",
      "  from .autonotebook import tqdm as notebook_tqdm\n"
     ]
    }
   ],
   "source": [
    "from pathlib import Path\n",
    "import torch\n",
    "import pytorch_lightning as pl\n",
    "from pytorch_lightning.callbacks import ModelCheckpoint\n",
    "from pytorch_lightning.loggers import TensorBoardLogger\n",
    "\n",
    "import pytorch_lightning as pl\n",
    "from multipage_classifier.multipage_transformer import MultipageTransformerConfig\n",
    "from training.transformer.lightning_module import MultipageTransformerPLModule, MultipagePLDataModule\n"
   ]
  },
  {
   "cell_type": "code",
   "execution_count": 2,
   "metadata": {},
   "outputs": [],
   "source": [
    "\n",
    "MODEL = \"/data/training/master_thesis/lightning_logs/multipage_transformer/version_0/checkpoints/best-checkpoint.ckpt\"\n",
    "\n",
    "DATASET_PATH = \"/data/training/master_thesis/datasets/2023-05-23\"\n",
    "CLASS_PATH = \"/data/training/master_thesis/datasets/bzuf_classes.json\"\n",
    "\n",
    "MAX_PAGES = 8\n",
    "NUM_WORKERS = 1\n",
    "\n",
    "MAX_LENGTH = 768\n",
    "IMAGE_SIZE  = (420, 360)\n",
    "TASK_PROMPT = \"<s_classification>\"\n"
   ]
  },
  {
   "cell_type": "code",
   "execution_count": 3,
   "metadata": {},
   "outputs": [],
   "source": [
    "# Load Model\n",
    "model = MultipageTransformerPLModule.load_from_checkpoint(MODEL)\n",
    "#model = torch.load(\"/data/training/master_thesis/lightning_logs/last_model.ckpt\") # TODO FIXXX"
   ]
  },
  {
   "cell_type": "code",
   "execution_count": 4,
   "metadata": {},
   "outputs": [],
   "source": [
    "data_module = MultipagePLDataModule(Path(DATASET_PATH), model.model, task_prompt=TASK_PROMPT, num_workers=NUM_WORKERS)\n",
    "\n",
    "data_module.prepare_data()\n",
    "data_module.setup()"
   ]
  },
  {
   "cell_type": "code",
   "execution_count": 5,
   "metadata": {},
   "outputs": [],
   "source": [
    "ds = iter(data_module.test_dataloader())\n",
    "n = 10\n",
    "for _ in range(n):\n",
    "    i = next(ds)"
   ]
  },
  {
   "cell_type": "code",
   "execution_count": 6,
   "metadata": {},
   "outputs": [
    {
     "data": {
      "text/plain": [
       "[{'doc_id': tensor([0]), 'doc_class': ['anschreiben'], 'page_nr': tensor([0])},\n",
       " {'doc_id': tensor([0]), 'doc_class': ['anschreiben'], 'page_nr': tensor([1])},\n",
       " {'doc_id': tensor([1]),\n",
       "  'doc_class': ['antrag.formblattantrag.hilfe_zur_pflege'],\n",
       "  'page_nr': tensor([0])},\n",
       " {'doc_id': tensor([1]),\n",
       "  'doc_class': ['antrag.formblattantrag.hilfe_zur_pflege'],\n",
       "  'page_nr': tensor([1])},\n",
       " {'doc_id': tensor([1]),\n",
       "  'doc_class': ['antrag.formblattantrag.hilfe_zur_pflege'],\n",
       "  'page_nr': tensor([2])},\n",
       " {'doc_id': tensor([1]),\n",
       "  'doc_class': ['antrag.formblattantrag.hilfe_zur_pflege'],\n",
       "  'page_nr': tensor([3])},\n",
       " {'doc_id': tensor([1]),\n",
       "  'doc_class': ['antrag.formblattantrag.hilfe_zur_pflege'],\n",
       "  'page_nr': tensor([4])},\n",
       " {'doc_id': tensor([1]),\n",
       "  'doc_class': ['antrag.formblattantrag.hilfe_zur_pflege'],\n",
       "  'page_nr': tensor([5])},\n",
       " {'doc_id': tensor([2]),\n",
       "  'doc_class': ['vermoegen.vermoegenserklaerung'],\n",
       "  'page_nr': tensor([0])},\n",
       " {'doc_id': tensor([2]),\n",
       "  'doc_class': ['vermoegen.vermoegenserklaerung'],\n",
       "  'page_nr': tensor([1])},\n",
       " {'doc_id': tensor([3]),\n",
       "  'doc_class': ['vermoegen.vermoegenserklaerung'],\n",
       "  'page_nr': tensor([0])},\n",
       " {'doc_id': tensor([3]),\n",
       "  'doc_class': ['vermoegen.vermoegenserklaerung'],\n",
       "  'page_nr': tensor([1])},\n",
       " {'doc_id': tensor([4]), 'doc_class': ['vollmacht'], 'page_nr': tensor([0])},\n",
       " {'doc_id': tensor([5]),\n",
       "  'doc_class': ['schwerbehinderung.ausweis'],\n",
       "  'page_nr': tensor([0])},\n",
       " {'doc_id': tensor([5]),\n",
       "  'doc_class': ['schwerbehinderung.ausweis'],\n",
       "  'page_nr': tensor([1])},\n",
       " {'doc_id': tensor([6]), 'doc_class': ['empty_pages'], 'page_nr': tensor([0])}]"
      ]
     },
     "execution_count": 6,
     "metadata": {},
     "output_type": "execute_result"
    }
   ],
   "source": [
    "i[\"ground_truth\"]"
   ]
  },
  {
   "cell_type": "code",
   "execution_count": 14,
   "metadata": {},
   "outputs": [
    {
     "name": "stdout",
     "output_type": "stream",
     "text": [
      "torch.Size([1, 16, 3, 420, 360])\n",
      "torch.Size([1, 16, 768])\n",
      "torch.Size([1, 1])\n"
     ]
    }
   ],
   "source": [
    "from torch.nn.utils.rnn import pad_sequence\n",
    "\n",
    "decoder_prompts = pad_sequence(\n",
    "    [\n",
    "        input_id[: end_idx + 1]\n",
    "        for input_id, end_idx in zip( i[\"decoder_input_ids\"], i[\"prompt_end_index\"])\n",
    "    ],\n",
    "    batch_first=True,\n",
    ")\n",
    "o = model.model.inference(i[\"pixel_values\"], decoder_prompts, return_json=False)"
   ]
  },
  {
   "cell_type": "code",
   "execution_count": 23,
   "metadata": {},
   "outputs": [
    {
     "data": {
      "text/plain": [
       "0.0"
      ]
     },
     "execution_count": 23,
     "metadata": {},
     "output_type": "execute_result"
    }
   ],
   "source": [
    "torch.Tensor([0]).item()"
   ]
  },
  {
   "cell_type": "code",
   "execution_count": 25,
   "metadata": {},
   "outputs": [
    {
     "name": "stdout",
     "output_type": "stream",
     "text": [
      "0 0 - 0 0 - antrag.formlos anschreiben\n",
      "0 0 - 1 1 - antrag.formlos anschreiben\n",
      "1 1 - 0 0 - antrag.formblattantrag.einzelintegration antrag.formblattantrag.hilfe_zur_pflege\n",
      "1 1 - 1 1 - antrag.formblattantrag.einzelintegration antrag.formblattantrag.hilfe_zur_pflege\n",
      "1 1 - 2 2 - antrag.formblattantrag.einzelintegration antrag.formblattantrag.hilfe_zur_pflege\n",
      "1 1 - 3 3 - antrag.formblattantrag.einzelintegration antrag.formblattantrag.hilfe_zur_pflege\n",
      "1 1 - 4 4 - antrag.formblattantrag.einzelintegration antrag.formblattantrag.hilfe_zur_pflege\n",
      "2 1 - 0 5 - antrag.formblattantrag.einzelintegration antrag.formblattantrag.hilfe_zur_pflege\n",
      "2 2 - 1 0 - antrag.formblattantrag.einzelintegration vermoegen.vermoegenserklaerung\n",
      "3 2 - 0 1 - antrag.formblattantrag.einzelintegration vermoegen.vermoegenserklaerung\n",
      "3 3 - 1 0 - antrag.einzelintegration vermoegen.vermoegenserklaerung\n",
      "3 3 - 2 1 - antrag.formblattantrag.einzelintegration vermoegen.vermoegenserklaerung\n",
      "4 4 - 3 0 - antrag.einzelintegration vollmacht\n",
      "4 5 - 5 0 - antrag.formblattantrag.einzelintegration schwerbehinderung.ausweis\n",
      "4 5 - 0 1 - antrag.einzelintegration schwerbehinderung.ausweis\n",
      "4 6 - 1 0 - antrag.formblattantrag.einzelintegration empty_pages\n"
     ]
    }
   ],
   "source": [
    "for pred, gt in zip(model.model.token2json(o[\"predictions\"][0]), i[\"ground_truth\"]):\n",
    "    print(pred[\"doc_id\"], gt[\"doc_id\"].item(), \"-\", pred[\"page_nr\"], gt[\"page_nr\"].item(), \"-\", pred[\"doc_class\"], gt[\"doc_class\"][0])"
   ]
  },
  {
   "cell_type": "code",
   "execution_count": null,
   "metadata": {},
   "outputs": [],
   "source": []
  },
  {
   "cell_type": "code",
   "execution_count": 9,
   "metadata": {},
   "outputs": [],
   "source": [
    "import torch\n",
    "t = torch.tensor([[0,1,2,3],[4,5,6,7]])"
   ]
  },
  {
   "cell_type": "code",
   "execution_count": 10,
   "metadata": {},
   "outputs": [
    {
     "data": {
      "text/plain": [
       "tensor([0, 1, 2, 3, 4, 5, 6, 7])"
      ]
     },
     "execution_count": 10,
     "metadata": {},
     "output_type": "execute_result"
    }
   ],
   "source": [
    "t.view(-1)"
   ]
  },
  {
   "cell_type": "code",
   "execution_count": 11,
   "metadata": {},
   "outputs": [
    {
     "data": {
      "text/plain": [
       "torch.Size([1, 3, 5])"
      ]
     },
     "execution_count": 11,
     "metadata": {},
     "output_type": "execute_result"
    }
   ],
   "source": [
    "import torch\n",
    "\n",
    "t = [torch.zeros((1,3,5))]\n",
    "torch.cat(t).size()"
   ]
  }
 ],
 "metadata": {
  "kernelspec": {
   "display_name": "multipage-classifier-training-AUw5wBFA-py3.10",
   "language": "python",
   "name": "python3"
  },
  "language_info": {
   "codemirror_mode": {
    "name": "ipython",
    "version": 3
   },
   "file_extension": ".py",
   "mimetype": "text/x-python",
   "name": "python",
   "nbconvert_exporter": "python",
   "pygments_lexer": "ipython3",
   "version": "3.10.9"
  },
  "orig_nbformat": 4,
  "vscode": {
   "interpreter": {
    "hash": "3ac4961f1a54f42faafdec5556e4f4c3e1beb539dc12fb47f919b6f0d50a14ba"
   }
  }
 },
 "nbformat": 4,
 "nbformat_minor": 2
}
