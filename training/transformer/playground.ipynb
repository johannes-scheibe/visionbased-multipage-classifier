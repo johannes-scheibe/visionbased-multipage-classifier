{
 "cells": [
  {
   "cell_type": "code",
   "execution_count": null,
   "metadata": {},
   "outputs": [],
   "source": [
    "from pathlib import Path\n",
    "import torch\n",
    "import pytorch_lightning as pl\n",
    "from pytorch_lightning.callbacks import ModelCheckpoint\n",
    "from pytorch_lightning.loggers import TensorBoardLogger\n",
    "\n",
    "import pytorch_lightning as pl\n",
    "from multipage_classifier.transformer_model import MultipageTransformerConfig\n",
    "from training.transformer.lightning_module import MultipageTransformerPLModule, MultipagePLDataModule\n"
   ]
  },
  {
   "cell_type": "code",
   "execution_count": null,
   "metadata": {},
   "outputs": [],
   "source": [
    "\n",
    "MODEL = \"../lightning_logs/multipage_transformer/version_0/checkpoints/best-checkpoint.ckpt\"\n",
    "\n",
    "DATASET_PATH=\"../dataset/ucsf-idl-resized-without_emails/\"\n",
    "DS_FILE = \"IDL-less_20_pages.json\"\n",
    "\n",
    "N_EPOCHS = 50\n",
    "MAX_PAGES = 16\n",
    "\n",
    "NUM_WORKERS = 1\n",
    " \n",
    "MAX_LENGTH = 768\n",
    "IMAGE_SIZE  = [640, 896]"
   ]
  },
  {
   "cell_type": "code",
   "execution_count": null,
   "metadata": {},
   "outputs": [],
   "source": [
    "# Load Model\n",
    "\n",
    "model = MultipageTransformerPLModule.load_from_checkpoint(MODEL)"
   ]
  },
  {
   "cell_type": "code",
   "execution_count": null,
   "metadata": {},
   "outputs": [],
   "source": [
    "data_module = MultipagePLDataModule(\n",
    "    DATASET_PATH,\n",
    "    DS_FILE,\n",
    "    model.model\n",
    ")\n",
    "data_module.prepare_data()\n",
    "data_module.setup()"
   ]
  },
  {
   "cell_type": "code",
   "execution_count": null,
   "metadata": {},
   "outputs": [],
   "source": [
    "i = next(iter(data_module.test_dataloader()))"
   ]
  },
  {
   "cell_type": "code",
   "execution_count": null,
   "metadata": {},
   "outputs": [],
   "source": [
    "preds, answers, scores = model.validation_step(i)"
   ]
  }
 ],
 "metadata": {
  "kernelspec": {
   "display_name": "multipage-classifier-training-AUw5wBFA-py3.10",
   "language": "python",
   "name": "python3"
  },
  "language_info": {
   "codemirror_mode": {
    "name": "ipython",
    "version": 3
   },
   "file_extension": ".py",
   "mimetype": "text/x-python",
   "name": "python",
   "nbconvert_exporter": "python",
   "pygments_lexer": "ipython3",
   "version": "3.10.9"
  },
  "orig_nbformat": 4,
  "vscode": {
   "interpreter": {
    "hash": "3ac4961f1a54f42faafdec5556e4f4c3e1beb539dc12fb47f919b6f0d50a14ba"
   }
  }
 },
 "nbformat": 4,
 "nbformat_minor": 2
}
