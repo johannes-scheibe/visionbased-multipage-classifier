{
 "cells": [
  {
   "cell_type": "code",
   "execution_count": 1,
   "metadata": {},
   "outputs": [
    {
     "name": "stderr",
     "output_type": "stream",
     "text": [
      "/data/training/pypoetry/virtualenvs/multipage-classifier-training-o8JTDpqF-py3.10/lib/python3.10/site-packages/tqdm/auto.py:21: TqdmWarning: IProgress not found. Please update jupyter and ipywidgets. See https://ipywidgets.readthedocs.io/en/stable/user_install.html\n",
      "  from .autonotebook import tqdm as notebook_tqdm\n"
     ]
    }
   ],
   "source": [
    "from pathlib import Path\n",
    "import torch\n",
    "import pytorch_lightning as pl\n",
    "from pytorch_lightning.callbacks import ModelCheckpoint\n",
    "from pytorch_lightning.loggers import TensorBoardLogger\n",
    "\n",
    "import pytorch_lightning as pl\n",
    "from multipage_classifier.multipage_transformer import MultipageTransformerConfig\n",
    "from training.transformer.lightning_module import MultipageTransformerPLModule, MultipagePLDataModule\n"
   ]
  },
  {
   "cell_type": "code",
   "execution_count": 2,
   "metadata": {},
   "outputs": [],
   "source": [
    "\n",
    "MODEL = \"/data/training/master_thesis/lightning_logs/multipage_transformer/version_0/checkpoints/best-checkpoint.ckpt\"\n",
    "\n",
    "DATASET_PATH = \"/data/training/master_thesis/datasets/2023-05-23\"\n",
    "CLASS_PATH = \"/data/training/master_thesis/datasets/bzuf_classes.json\"\n",
    "\n",
    "MAX_PAGES = 8\n",
    "NUM_WORKERS = 1\n",
    "\n",
    "MAX_LENGTH = 768\n",
    "IMAGE_SIZE  = (420, 360)"
   ]
  },
  {
   "cell_type": "code",
   "execution_count": 4,
   "metadata": {},
   "outputs": [],
   "source": [
    "# Load Model\n",
    "#model = MultipageTransformerPLModule.load_from_checkpoint(MODEL)\n",
    "model = torch.load(\"/data/training/master_thesis/lightning_logs/last_model.ckpt\") # TODO FIXXX"
   ]
  },
  {
   "cell_type": "code",
   "execution_count": 5,
   "metadata": {},
   "outputs": [],
   "source": [
    "data_module = MultipagePLDataModule(Path(DATASET_PATH), model.model, num_workers=NUM_WORKERS)\n",
    "\n",
    "data_module.prepare_data()\n",
    "data_module.setup()"
   ]
  },
  {
   "cell_type": "code",
   "execution_count": 6,
   "metadata": {},
   "outputs": [],
   "source": [
    "i = next(iter(data_module.test_dataloader()))"
   ]
  },
  {
   "cell_type": "code",
   "execution_count": 7,
   "metadata": {},
   "outputs": [
    {
     "data": {
      "text/plain": [
       "['<s_test><s_doc_id>0</s_doc_id><s_doc_class>rv.grundrentenzeiten_erfuellt_nicht_erfuellt</s_doc_class><s_page_nr>0</s_page_nr><sep/><s_doc_id>1</s_doc_id><s_doc_class>empty_pages</s_doc_class><s_page_nr>0</s_page_nr></s>']"
      ]
     },
     "execution_count": 7,
     "metadata": {},
     "output_type": "execute_result"
    }
   ],
   "source": [
    "i[\"target_sequence\"]"
   ]
  },
  {
   "cell_type": "code",
   "execution_count": 9,
   "metadata": {},
   "outputs": [
    {
     "data": {
      "text/plain": [
       "[{'doc_id': tensor([0]),\n",
       "  'doc_class': ['rv.grundrentenzeiten_erfuellt_nicht_erfuellt'],\n",
       "  'page_nr': tensor([0])},\n",
       " {'doc_id': tensor([1]), 'doc_class': ['empty_pages'], 'page_nr': tensor([0])}]"
      ]
     },
     "execution_count": 9,
     "metadata": {},
     "output_type": "execute_result"
    }
   ],
   "source": [
    "i[\"ground_truth\"]"
   ]
  },
  {
   "cell_type": "code",
   "execution_count": 10,
   "metadata": {},
   "outputs": [
    {
     "name": "stderr",
     "output_type": "stream",
     "text": [
      "A decoder-only architecture is being used, but right-padding was detected! For correct generation results, please set `padding_side='left'` when initializing the tokenizer.\n",
      "/data/training/pypoetry/virtualenvs/multipage-classifier-training-o8JTDpqF-py3.10/lib/python3.10/site-packages/transformers/generation/utils.py:1353: UserWarning: Using `max_length`'s default (20) to control the generation length. This behaviour is deprecated and will be removed from the config in v5 of Transformers -- we recommend using `max_new_tokens` to control the maximum length of the generation.\n",
      "  warnings.warn(\n",
      "Input length of input_ids is 1024, but `max_length` is set to 20. This can lead to unexpected behavior. You should consider increasing `max_new_tokens`.\n"
     ]
    }
   ],
   "source": [
    "o = model.model.inference(i[\"pixel_values\"], i[\"decoder_input_ids\"], return_json=False)"
   ]
  },
  {
   "cell_type": "code",
   "execution_count": 11,
   "metadata": {},
   "outputs": [
    {
     "data": {
      "text/plain": [
       "{'predictions': ['<s_doc_id> 0 </s_doc_id> <s_doc_class> rv.grundrentenzeiten_erfuellt_nicht_erfuellt </s_doc_class> <s_page_nr> 0 </s_page_nr> <sep/> <s_doc_id> 1 </s_doc_id> <s_doc_class> empty_pages </s_doc_class> <s_page_nr> 0 </s_page_nr>  </s_doc_class>']}"
      ]
     },
     "execution_count": 11,
     "metadata": {},
     "output_type": "execute_result"
    }
   ],
   "source": [
    "o"
   ]
  },
  {
   "cell_type": "code",
   "execution_count": null,
   "metadata": {},
   "outputs": [],
   "source": []
  },
  {
   "cell_type": "code",
   "execution_count": null,
   "metadata": {},
   "outputs": [],
   "source": [
    "import torch\n",
    "t = torch.tensor([[0,1,2,3],[4,5,6,7]])"
   ]
  },
  {
   "cell_type": "code",
   "execution_count": null,
   "metadata": {},
   "outputs": [
    {
     "data": {
      "text/plain": [
       "tensor([0, 1, 2, 3, 4, 5, 6, 7])"
      ]
     },
     "execution_count": 8,
     "metadata": {},
     "output_type": "execute_result"
    }
   ],
   "source": [
    "t.view(-1)"
   ]
  },
  {
   "cell_type": "code",
   "execution_count": null,
   "metadata": {},
   "outputs": [
    {
     "data": {
      "text/plain": [
       "torch.Size([1, 3, 5])"
      ]
     },
     "execution_count": 5,
     "metadata": {},
     "output_type": "execute_result"
    }
   ],
   "source": [
    "import torch\n",
    "\n",
    "t = [torch.zeros((1,3,5))]\n",
    "torch.cat(t).size()"
   ]
  }
 ],
 "metadata": {
  "kernelspec": {
   "display_name": "multipage-classifier-training-AUw5wBFA-py3.10",
   "language": "python",
   "name": "python3"
  },
  "language_info": {
   "codemirror_mode": {
    "name": "ipython",
    "version": 3
   },
   "file_extension": ".py",
   "mimetype": "text/x-python",
   "name": "python",
   "nbconvert_exporter": "python",
   "pygments_lexer": "ipython3",
   "version": "3.10.9"
  },
  "orig_nbformat": 4,
  "vscode": {
   "interpreter": {
    "hash": "3ac4961f1a54f42faafdec5556e4f4c3e1beb539dc12fb47f919b6f0d50a14ba"
   }
  }
 },
 "nbformat": 4,
 "nbformat_minor": 2
}
