{
 "cells": [
  {
   "cell_type": "code",
   "execution_count": null,
   "metadata": {},
   "outputs": [],
   "source": [
    "from transformers import DonutProcessor, VisionEncoderDecoderModel\n",
    "from transformers import DonutSwinModel, Swinv2Model, SwinModel\n",
    "\n",
    "from swin_encoder.lightning_module import SwinEncoderPLModule\n",
    "from vision_encoder.lightning_module import VisionEncoderPLModule\n",
    "\n",
    "import torch"
   ]
  },
  {
   "cell_type": "code",
   "execution_count": null,
   "metadata": {},
   "outputs": [],
   "source": [
    "MODEL_PATH = \"/data/training/master_thesis/evaluation_logs/vision_encoder/google/vit-base-patch16-224/version_0/checkpoints/best-checkpoint.ckpt\"\n"
   ]
  },
  {
   "cell_type": "code",
   "execution_count": null,
   "metadata": {},
   "outputs": [],
   "source": [
    "from pathlib import Path\n",
    "\n",
    "\n",
    "model = VisionEncoderPLModule.load_from_checkpoint(MODEL_PATH)\n",
    "\n",
    "torch.save(model.encoder, Path(MODEL_PATH).parent.parent / \"model.path\")"
   ]
  },
  {
   "cell_type": "code",
   "execution_count": null,
   "metadata": {},
   "outputs": [],
   "source": [
    "from transformers import DonutProcessor, VisionEncoderDecoderModel\n",
    "\n",
    "import torch\n",
    "\n",
    "\n",
    "model = VisionEncoderDecoderModel.from_pretrained(\"naver-clova-ix/donut-base-finetuned-rvlcdip\")\n"
   ]
  },
  {
   "cell_type": "code",
   "execution_count": null,
   "metadata": {},
   "outputs": [],
   "source": [
    "from pathlib import Path\n",
    "res_dir = Path(\"/data/training/master_thesis/models/naver-clova-ix/donut-bart-base\")\n",
    "res_dir.mkdir(parents=True, exist_ok=True)\n",
    "torch.save(model.decoder, res_dir / \"model.path\")"
   ]
  }
 ],
 "metadata": {
  "kernelspec": {
   "display_name": "multipage-classifier-training-o8JTDpqF-py3.10",
   "language": "python",
   "name": "python3"
  },
  "language_info": {
   "codemirror_mode": {
    "name": "ipython",
    "version": 3
   },
   "file_extension": ".py",
   "mimetype": "text/x-python",
   "name": "python",
   "nbconvert_exporter": "python",
   "pygments_lexer": "ipython3",
   "version": "3.11.1"
  },
  "orig_nbformat": 4
 },
 "nbformat": 4,
 "nbformat_minor": 2
}
