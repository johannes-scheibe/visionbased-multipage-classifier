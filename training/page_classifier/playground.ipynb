{
 "cells": [
  {
   "cell_type": "code",
   "execution_count": 1,
   "metadata": {},
   "outputs": [
    {
     "name": "stderr",
     "output_type": "stream",
     "text": [
      "/home/jscheibe/.cache/pypoetry/virtualenvs/multipage-classifier-training-AUw5wBFA-py3.10/lib/python3.10/site-packages/tqdm/auto.py:21: TqdmWarning: IProgress not found. Please update jupyter and ipywidgets. See https://ipywidgets.readthedocs.io/en/stable/user_install.html\n",
      "  from .autonotebook import tqdm as notebook_tqdm\n"
     ]
    }
   ],
   "source": [
    "from pathlib import Path\n",
    "\n",
    "import pytorch_lightning as pl\n",
    "from lightning_module import MultipageClassifierPLModule\n",
    "from pytorch_lightning.callbacks import ModelCheckpoint\n",
    "from pytorch_lightning.loggers import TensorBoardLogger\n",
    "\n",
    "from multipage_classifier.datasets.ucsf_dataset import UCSFDataModule\n",
    "from multipage_classifier.page_classifier import (MultipageClassifier,\n",
    "                                                  MultipageClassifierConfig)"
   ]
  },
  {
   "cell_type": "code",
   "execution_count": 2,
   "metadata": {},
   "outputs": [],
   "source": [
    "\n",
    "NAME = \"multipage_classifier\"\n",
    "MODEL_PATH = \"../lightning_logs/multipage_classifier/version_1/checkpoints/best-checkpoint.ckpt\"\n",
    "DATASET_PATH = \"../../dataset/ucsf-idl-resized-without_emails/\"\n",
    "DS_FILE = \"IDL-less_20_pages.json\"\n",
    "\n",
    "N_EPOCHS = 100\n",
    "MAX_PAGES = 64\n",
    "NUM_WORKERS = 8\n",
    "\n",
    "MAX_LENGTH = 768\n",
    "IMAGE_SIZE  = [512, 704] "
   ]
  },
  {
   "cell_type": "code",
   "execution_count": 3,
   "metadata": {},
   "outputs": [],
   "source": [
    "# Define Model\n",
    "config = MultipageClassifierConfig(\n",
    "    input_size=IMAGE_SIZE,\n",
    "    max_pages=MAX_PAGES\n",
    ")\n",
    "model = MultipageClassifierPLModule.load_from_checkpoint(MODEL_PATH)\n",
    "\n",
    "data_module = UCSFDataModule(\n",
    "    Path(DATASET_PATH),\n",
    "    DS_FILE,\n",
    "    # TODO maybe call this in PLModule\n",
    "    prepare_function=model.classifier.prepare_input,\n",
    "    split=[0.8, 0.2],\n",
    "    max_pages=MAX_PAGES,\n",
    "    num_workers=NUM_WORKERS\n",
    ")\n",
    "\n",
    "data_module.prepare_data()\n",
    "data_module.setup()\n"
   ]
  },
  {
   "cell_type": "code",
   "execution_count": 4,
   "metadata": {},
   "outputs": [],
   "source": [
    "model_input = next(iter(data_module.test_dataloader()))"
   ]
  },
  {
   "cell_type": "code",
   "execution_count": 5,
   "metadata": {},
   "outputs": [],
   "source": [
    "pred, prob =model.classifier.predict(model_input[\"pixel_values\"])"
   ]
  },
  {
   "cell_type": "code",
   "execution_count": 6,
   "metadata": {},
   "outputs": [
    {
     "name": "stdout",
     "output_type": "stream",
     "text": [
      "GT: 0,  Pred: 0, \n",
      "GT: 0,  Pred: 0, \n",
      "GT: 1,  Pred: 0, \n",
      "GT: 1,  Pred: 0, \n",
      "GT: 1,  Pred: 0, \n",
      "GT: 1,  Pred: 0, \n",
      "GT: 1,  Pred: 0, \n",
      "GT: 1,  Pred: 0, \n",
      "GT: 2,  Pred: 1, \n",
      "GT: 2,  Pred: 2, \n",
      "GT: 2,  Pred: 2, \n",
      "GT: 2,  Pred: 2, \n",
      "GT: 2,  Pred: 2, \n",
      "GT: 2,  Pred: 2, \n",
      "GT: 3,  Pred: 2, \n",
      "GT: 3,  Pred: 2, \n",
      "GT: 3,  Pred: 2, \n",
      "GT: 3,  Pred: 3, \n",
      "GT: 3,  Pred: 4, \n",
      "GT: 4,  Pred: 5, \n",
      "GT: 5,  Pred: 6, \n",
      "GT: 5,  Pred: 7, \n",
      "GT: 5,  Pred: 8, \n",
      "GT: 5,  Pred: 9, \n",
      "GT: 5,  Pred: 10, \n",
      "GT: 5,  Pred: 10, \n",
      "GT: 5,  Pred: 10, \n",
      "GT: 5,  Pred: 10, \n",
      "GT: 5,  Pred: 10, \n",
      "GT: 5,  Pred: 10, \n",
      "GT: 5,  Pred: 10, \n",
      "GT: 6,  Pred: 11, \n",
      "GT: 6,  Pred: 12, \n",
      "GT: 6,  Pred: 12, \n",
      "GT: 6,  Pred: 13, \n",
      "GT: 7,  Pred: 14, \n",
      "GT: 7,  Pred: 14, \n",
      "GT: 7,  Pred: 15, \n",
      "GT: 7,  Pred: 16, \n",
      "GT: 7,  Pred: 16, \n",
      "GT: 7,  Pred: 16, \n",
      "GT: 7,  Pred: 16, \n",
      "GT: 7,  Pred: 16, \n",
      "GT: 7,  Pred: 16, \n",
      "GT: 7,  Pred: 16, \n",
      "GT: 7,  Pred: 16, \n",
      "GT: 7,  Pred: 16, \n",
      "GT: 8,  Pred: 16, \n",
      "GT: 8,  Pred: 17, \n",
      "GT: 9,  Pred: 18, \n",
      "GT: 9,  Pred: 18, \n",
      "GT: 9,  Pred: 19, \n",
      "GT: 9,  Pred: 20, \n",
      "GT: 9,  Pred: -1, \n",
      "GT: 9,  Pred: -1, \n",
      "GT: 9,  Pred: -1, \n",
      "GT: 9,  Pred: -1, \n",
      "GT: 9,  Pred: -1, \n",
      "GT: 9,  Pred: -1, \n",
      "GT: 10,  Pred: 21, \n",
      "GT: 11,  Pred: 22, \n",
      "GT: 11,  Pred: -1, \n",
      "GT: 11,  Pred: -1, \n",
      "GT: 11,  Pred: -1, \n"
     ]
    }
   ],
   "source": [
    "for i in range(len(model_input[\"doc_id\"])):\n",
    "    print(f\"GT: {model_input['doc_id'].tolist()[i]}, \",\n",
    "          f\"Pred: {pred.tolist()[i]}, \")"
   ]
  }
 ],
 "metadata": {
  "kernelspec": {
   "display_name": "multipage-classifier-training-AUw5wBFA-py3.10",
   "language": "python",
   "name": "python3"
  },
  "language_info": {
   "codemirror_mode": {
    "name": "ipython",
    "version": 3
   },
   "file_extension": ".py",
   "mimetype": "text/x-python",
   "name": "python",
   "nbconvert_exporter": "python",
   "pygments_lexer": "ipython3",
   "version": "3.10.9"
  },
  "orig_nbformat": 4,
  "vscode": {
   "interpreter": {
    "hash": "3ac4961f1a54f42faafdec5556e4f4c3e1beb539dc12fb47f919b6f0d50a14ba"
   }
  }
 },
 "nbformat": 4,
 "nbformat_minor": 2
}
