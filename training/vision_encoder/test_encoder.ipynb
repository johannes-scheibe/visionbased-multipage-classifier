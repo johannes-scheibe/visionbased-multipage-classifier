{
 "cells": [
  {
   "cell_type": "code",
   "execution_count": 1,
   "metadata": {},
   "outputs": [
    {
     "name": "stderr",
     "output_type": "stream",
     "text": [
      "/data/training/pypoetry/virtualenvs/multipage-classifier-training-o8JTDpqF-py3.11/lib/python3.11/site-packages/tqdm/auto.py:21: TqdmWarning: IProgress not found. Please update jupyter and ipywidgets. See https://ipywidgets.readthedocs.io/en/stable/user_install.html\n",
      "  from .autonotebook import tqdm as notebook_tqdm\n"
     ]
    }
   ],
   "source": [
    "import json\n",
    "from pathlib import Path\n",
    "\n",
    "import pytorch_lightning as pl\n",
    "import torch\n",
    "from multipage_classifier.datasets.mosaic_dataset import MosaicDataModule\n",
    "from multipage_classifier.encoder.swin_encoder import SwinEncoderConfig\n",
    "from pytorch_lightning.callbacks import ModelCheckpoint\n",
    "from pytorch_lightning.loggers import TensorBoardLogger\n",
    "from swin_encoder.lightning_module import SwinEncoderPLModule"
   ]
  },
  {
   "cell_type": "code",
   "execution_count": 2,
   "metadata": {},
   "outputs": [],
   "source": [
    "\n",
    "EMBEDDER_MODEL = \"/data/training/master_thesis/lightning_logs/swin_encoder/version_2/checkpoints/best-checkpoint.ckpt\"\n",
    "\n",
    "DATASET_PATH = \"/data/training/master_thesis/datasets/2023-05-23\"\n",
    "CLASS_PATH = \"/data/training/master_thesis/datasets/bzuf_classes.json\"\n",
    "\n",
    "\n",
    "MAX_PAGES = 8\n",
    "BATCH_SIZE = 1\n"
   ]
  },
  {
   "cell_type": "code",
   "execution_count": 3,
   "metadata": {},
   "outputs": [
    {
     "name": "stderr",
     "output_type": "stream",
     "text": [
      "Some weights of SwinModel were not initialized from the model checkpoint at /data/training/master_thesis/models/donut-encoder and are newly initialized: ['layernorm.bias', 'layernorm.weight']\n",
      "You should probably TRAIN this model on a down-stream task to be able to use it for predictions and inference.\n"
     ]
    }
   ],
   "source": [
    "# Load Embedder\n",
    "encoder_module = SwinEncoderPLModule.load_from_checkpoint(EMBEDDER_MODEL)\n",
    "encoder_module = encoder_module.eval()\n"
   ]
  },
  {
   "cell_type": "code",
   "execution_count": 4,
   "metadata": {},
   "outputs": [],
   "source": [
    "# Define data module\n",
    "classes = [c for c in json.load(open(CLASS_PATH))]\n",
    "data_module = MosaicDataModule(Path(DATASET_PATH), classes, encoder_module.encoder.prepare_input, batch_size=BATCH_SIZE, max_pages=MAX_PAGES)\n",
    "\n",
    "data_module.prepare_data()\n",
    "data_module.setup()"
   ]
  },
  {
   "cell_type": "code",
   "execution_count": 5,
   "metadata": {},
   "outputs": [],
   "source": [
    "ds = iter(data_module.test_dataloader())\n",
    "n = 4\n",
    "for _ in range(n):\n",
    "    sample = next(ds)\n",
    "    "
   ]
  },
  {
   "cell_type": "code",
   "execution_count": 6,
   "metadata": {},
   "outputs": [
    {
     "data": {
      "text/plain": [
       "torch.Size([8, 3, 704, 512])"
      ]
     },
     "execution_count": 6,
     "metadata": {},
     "output_type": "execute_result"
    }
   ],
   "source": [
    "sample[\"pixel_values\"].size()"
   ]
  },
  {
   "cell_type": "code",
   "execution_count": 7,
   "metadata": {},
   "outputs": [],
   "source": [
    "pred, gt, loss = encoder_module.step(sample)"
   ]
  },
  {
   "cell_type": "code",
   "execution_count": 8,
   "metadata": {},
   "outputs": [
    {
     "data": {
      "text/plain": [
       "tensor([[3, 0, 0, 0, 0, 0, 0, 0],\n",
       "        [0, 3, 0, 0, 0, 0, 0, 0],\n",
       "        [0, 0, 3, 1, 1, 1, 1, 1],\n",
       "        [0, 0, 2, 3, 1, 1, 1, 1],\n",
       "        [0, 0, 2, 2, 3, 1, 1, 1],\n",
       "        [0, 0, 2, 2, 2, 3, 1, 1],\n",
       "        [0, 0, 2, 2, 2, 2, 3, 1],\n",
       "        [0, 0, 2, 2, 2, 2, 2, 3]])"
      ]
     },
     "execution_count": 8,
     "metadata": {},
     "output_type": "execute_result"
    }
   ],
   "source": [
    "gt[\"order\"].view(-1, len(sample[\"pixel_values\"]))"
   ]
  },
  {
   "cell_type": "code",
   "execution_count": 29,
   "metadata": {},
   "outputs": [
    {
     "data": {
      "text/plain": [
       "tensor([[3, 0, 0, 0, 0, 0, 0, 0],\n",
       "        [0, 3, 0, 0, 0, 0, 0, 0],\n",
       "        [0, 0, 3, 1, 1, 1, 1, 1],\n",
       "        [0, 0, 2, 3, 2, 2, 2, 1],\n",
       "        [0, 0, 2, 1, 3, 1, 1, 1],\n",
       "        [0, 0, 2, 1, 2, 3, 1, 3],\n",
       "        [0, 0, 2, 2, 2, 2, 3, 2],\n",
       "        [0, 0, 2, 2, 2, 3, 1, 3]])"
      ]
     },
     "execution_count": 29,
     "metadata": {},
     "output_type": "execute_result"
    }
   ],
   "source": [
    "bs = len(pred[\"class\"])\n",
    "order = torch.exp(pred[\"order\"])\n",
    "order = order.view(-1, bs, 4)\n",
    "\n",
    "order.argmax(2)"
   ]
  },
  {
   "cell_type": "code",
   "execution_count": 38,
   "metadata": {},
   "outputs": [
    {
     "data": {
      "text/plain": [
       "tensor([0, 1, 2, 2, 2, 2, 2, 2])"
      ]
     },
     "execution_count": 38,
     "metadata": {},
     "output_type": "execute_result"
    }
   ],
   "source": [
    "from sklearn.cluster import DBSCAN\n",
    "\n",
    "cluster_prediction = DBSCAN(\n",
    "    min_samples=1, metric=\"precomputed\"\n",
    ")\n",
    "\n",
    "doc_id_probs = order[:, :, 0] # just take 0 dim \"None\" and invert\n",
    "\n",
    "# make symetric\n",
    "doc_id_probs = (doc_id_probs + doc_id_probs.transpose(1, 0)) / (2)\n",
    "\n",
    "doc_ids = cluster_prediction.fit_predict(doc_id_probs.cpu().data.numpy())\n",
    "doc_ids = torch.tensor(doc_ids)\n",
    "\n",
    "doc_ids"
   ]
  },
  {
   "cell_type": "code",
   "execution_count": 57,
   "metadata": {},
   "outputs": [
    {
     "data": {
      "text/plain": [
       "tensor([[[3.8803e-04, 1.6957e-03, 1.6336e-03, 9.9628e-01],\n",
       "         [9.9861e-01, 1.8358e-05, 1.3709e-03, 1.0216e-21],\n",
       "         [9.3510e-01, 7.5570e-04, 6.4141e-02, 1.9910e-08],\n",
       "         [7.6831e-01, 3.9955e-02, 1.9174e-01, 7.2950e-11],\n",
       "         [9.7364e-01, 1.8778e-03, 2.4481e-02, 1.7639e-08],\n",
       "         [9.7512e-01, 3.9372e-03, 2.0940e-02, 5.4863e-09],\n",
       "         [9.4619e-01, 1.9510e-02, 3.4298e-02, 5.0965e-09],\n",
       "         [9.5388e-01, 1.8119e-02, 2.7999e-02, 4.7300e-08]],\n",
       "\n",
       "        [[9.9912e-01, 8.7407e-04, 1.0278e-05, 1.2901e-21],\n",
       "         [9.8162e-03, 2.6957e-03, 2.6751e-03, 9.8481e-01],\n",
       "         [9.9861e-01, 1.0378e-03, 3.5038e-04, 1.1848e-17],\n",
       "         [9.8898e-01, 1.0231e-02, 7.8926e-04, 4.8051e-14],\n",
       "         [9.9835e-01, 1.5134e-03, 1.3214e-04, 3.1528e-20],\n",
       "         [9.9848e-01, 1.4530e-03, 6.4232e-05, 2.3590e-22],\n",
       "         [9.9849e-01, 1.4770e-03, 3.6317e-05, 4.3878e-23],\n",
       "         [9.9263e-01, 7.2585e-03, 1.0918e-04, 2.9285e-21]],\n",
       "\n",
       "        [[9.4910e-01, 5.0281e-02, 6.1583e-04, 2.7272e-08],\n",
       "         [9.9859e-01, 3.0439e-04, 1.1027e-03, 8.6883e-18],\n",
       "         [3.3725e-04, 7.4238e-03, 1.0656e-02, 9.8158e-01],\n",
       "         [8.8729e-02, 8.6373e-01, 4.7539e-02, 3.3069e-08],\n",
       "         [1.1741e-02, 7.8571e-01, 1.1909e-01, 8.3457e-02],\n",
       "         [1.2308e-02, 9.3285e-01, 5.4671e-02, 1.6971e-04],\n",
       "         [8.2164e-03, 9.7644e-01, 1.5338e-02, 2.2394e-06],\n",
       "         [6.1021e-03, 9.8012e-01, 1.3601e-02, 1.7775e-04]],\n",
       "\n",
       "        [[8.0913e-01, 1.4678e-01, 4.4087e-02, 1.0807e-10],\n",
       "         [9.9076e-01, 7.4946e-04, 8.4953e-03, 3.7340e-14],\n",
       "         [6.8900e-02, 2.8523e-02, 9.0258e-01, 3.2675e-08],\n",
       "         [1.5305e-03, 5.5125e-02, 7.2139e-02, 8.7121e-01],\n",
       "         [9.1724e-02, 1.1759e-01, 7.9068e-01, 1.0123e-08],\n",
       "         [1.0967e-01, 2.1421e-01, 6.7611e-01, 9.1521e-10],\n",
       "         [7.9200e-02, 4.5908e-01, 4.6172e-01, 2.9944e-09],\n",
       "         [6.2117e-02, 5.4570e-01, 3.9219e-01, 7.5928e-09]],\n",
       "\n",
       "        [[9.7613e-01, 2.2343e-02, 1.5267e-03, 2.9136e-08],\n",
       "         [9.9803e-01, 1.2742e-04, 1.8431e-03, 2.6875e-20],\n",
       "         [8.7976e-03, 7.1433e-02, 8.3434e-01, 8.5425e-02],\n",
       "         [9.8666e-02, 7.0068e-01, 2.0065e-01, 1.2355e-08],\n",
       "         [2.2626e-04, 1.5739e-02, 1.9722e-02, 9.6431e-01],\n",
       "         [5.8876e-03, 6.0487e-01, 2.5076e-01, 1.3848e-01],\n",
       "         [5.4703e-03, 9.1102e-01, 8.1979e-02, 1.5321e-03],\n",
       "         [3.5896e-03, 7.8065e-01, 7.0745e-02, 1.4502e-01]],\n",
       "\n",
       "        [[9.7819e-01, 1.8698e-02, 3.1131e-03, 9.1444e-09],\n",
       "         [9.9843e-01, 6.7803e-05, 1.4973e-03, 1.5393e-22],\n",
       "         [9.5795e-03, 3.3312e-02, 9.5696e-01, 1.4583e-04],\n",
       "         [1.1399e-01, 5.7503e-01, 3.1098e-01, 8.1365e-10],\n",
       "         [5.9391e-03, 1.8880e-01, 6.7058e-01, 1.3468e-01],\n",
       "         [2.9877e-04, 2.5899e-02, 2.9979e-02, 9.4382e-01],\n",
       "         [4.1201e-03, 7.1520e-01, 1.5005e-01, 1.3063e-01],\n",
       "         [2.0307e-03, 3.2049e-01, 7.7053e-02, 6.0043e-01]],\n",
       "\n",
       "        [[9.5261e-01, 2.9268e-02, 1.8125e-02, 9.9229e-09],\n",
       "         [9.9827e-01, 3.9081e-05, 1.6861e-03, 4.2193e-23],\n",
       "         [5.5218e-03, 7.6280e-03, 9.8685e-01, 2.0061e-06],\n",
       "         [6.8532e-02, 3.1728e-01, 6.1418e-01, 2.7572e-09],\n",
       "         [4.5891e-03, 4.8718e-02, 9.4542e-01, 1.2726e-03],\n",
       "         [3.6686e-03, 1.1406e-01, 7.6560e-01, 1.1667e-01],\n",
       "         [2.5961e-04, 5.1273e-02, 5.4948e-02, 8.9352e-01],\n",
       "         [4.4978e-03, 3.6504e-01, 5.0291e-01, 1.2756e-01]],\n",
       "\n",
       "        [[9.6344e-01, 2.2720e-02, 1.3839e-02, 9.5869e-08],\n",
       "         [9.9097e-01, 9.7170e-05, 8.9305e-03, 2.9492e-21],\n",
       "         [4.6846e-03, 7.2221e-03, 9.8793e-01, 1.6545e-04],\n",
       "         [5.0406e-02, 2.4242e-01, 7.0717e-01, 7.0660e-09],\n",
       "         [3.4998e-03, 4.7739e-02, 8.2183e-01, 1.2693e-01],\n",
       "         [2.2518e-03, 6.9151e-02, 3.6514e-01, 5.6346e-01],\n",
       "         [4.8207e-03, 4.5293e-01, 4.0231e-01, 1.3994e-01],\n",
       "         [1.2586e-04, 2.1024e-02, 2.5519e-02, 9.5333e-01]]],\n",
       "       grad_fn=<ViewBackward0>)"
      ]
     },
     "execution_count": 57,
     "metadata": {},
     "output_type": "execute_result"
    }
   ],
   "source": [
    "order"
   ]
  },
  {
   "cell_type": "code",
   "execution_count": 62,
   "metadata": {},
   "outputs": [
    {
     "name": "stdout",
     "output_type": "stream",
     "text": [
      "tensor([0])\n",
      "tensor([[3]])\n",
      "tensor([1])\n",
      "tensor([[3]])\n",
      "tensor([2, 3, 4, 5, 6, 7])\n",
      "tensor([[3, 1, 1, 1, 1, 1],\n",
      "        [2, 3, 2, 2, 2, 1],\n",
      "        [2, 1, 3, 1, 1, 1],\n",
      "        [2, 1, 2, 3, 1, 3],\n",
      "        [2, 2, 2, 2, 3, 2],\n",
      "        [2, 2, 2, 3, 1, 3]])\n"
     ]
    }
   ],
   "source": [
    "for doc_id in torch.unique(doc_ids):\n",
    "    indices = torch.nonzero(doc_ids == doc_id).reshape(-1)\n",
    "    sub_order_mat =  order[indices][:, indices]   \n",
    "    print(sub_mat.argmax(2))"
   ]
  },
  {
   "cell_type": "code",
   "execution_count": 67,
   "metadata": {},
   "outputs": [],
   "source": [
    "order_matrix = sub_mat"
   ]
  },
  {
   "cell_type": "code",
   "execution_count": 68,
   "metadata": {},
   "outputs": [
    {
     "data": {
      "text/plain": [
       "tensor([0, 2, 3, 1, 5, 4])"
      ]
     },
     "execution_count": 68,
     "metadata": {},
     "output_type": "execute_result"
    }
   ],
   "source": [
    "# extract \"pred\" and \"succ\" prediction. NOTE this changes the indices -> [\"Pred\", \"Succ\"]\n",
    "page_nr_probs = order_matrix[:, :, 1:3] \n",
    "\n",
    "# Make \"page order symetric\": 0 maps to 1 and the other way arround\n",
    "bs = len(page_nr_probs)\n",
    "for i in range(bs):\n",
    "    for j in range(i, bs):\n",
    "        avg = (page_nr_probs[i, j] + page_nr_probs[j, i].flip(0)) / 2\n",
    "        page_nr_probs[i, j] = avg\n",
    "        page_nr_probs[j, i] = avg.flip(0)\n",
    "\n",
    "page_nr_preds = page_nr_probs.argmax(2)\n",
    "\n",
    "# Create a graph representation using a dictionary\n",
    "graph = defaultdict(list)\n",
    "for i in range(bs):\n",
    "    for j in range(bs):\n",
    "        if i != j:\n",
    "            if page_nr_preds[i, j] == 0:  # i is predecessor\n",
    "                graph[i].append(j)\n",
    "            elif page_nr_preds[i, j] == 1:  # i is successor\n",
    "                graph[j].append(i)\n",
    "\n",
    "# Perform topological sorting using Kahn's algorithm\n",
    "\n",
    "# Count the numbner of incomming edges\n",
    "in_degree = [0] * bs\n",
    "for node, neighbors in graph.items():\n",
    "    for neighbor in neighbors:\n",
    "        in_degree[neighbor] += 1\n",
    "\n",
    "# List of \"start nodes\" which have no incoming edges\n",
    "queue = deque([node for node, degree in enumerate(in_degree) if degree == 0])\n",
    "\n",
    "topological_order = []\n",
    "while queue:\n",
    "    node = queue.popleft()\n",
    "    topological_order.append(node)\n",
    "\n",
    "    for neighbor in graph[node]:\n",
    "        in_degree[neighbor] -= 1\n",
    "        if in_degree[neighbor] == 0:\n",
    "            queue.append(neighbor)\n",
    "\n",
    "torch.tensor(topological_order)"
   ]
  },
  {
   "cell_type": "code",
   "execution_count": 65,
   "metadata": {},
   "outputs": [],
   "source": [
    "page_nr_probs = order[:, :, 1:3]"
   ]
  },
  {
   "cell_type": "code",
   "execution_count": 16,
   "metadata": {},
   "outputs": [],
   "source": [
    "bs = len(sample[\"pixel_values\"])\n",
    "for i in range(bs):\n",
    "    for j in range(i, bs):\n",
    "        avg = (page_nr_probs[i, j] + page_nr_probs[j, i].flip(0)) / 2\n",
    "        page_nr_probs[i, j] = avg\n",
    "        page_nr_probs[j, i] = avg.flip(0)\n"
   ]
  },
  {
   "cell_type": "code",
   "execution_count": 17,
   "metadata": {},
   "outputs": [
    {
     "data": {
      "text/plain": [
       "tensor([[0, 0, 0, 0, 0, 0],\n",
       "        [1, 0, 1, 1, 0, 0],\n",
       "        [1, 0, 0, 0, 0, 0],\n",
       "        [1, 0, 1, 0, 0, 0],\n",
       "        [1, 1, 1, 1, 0, 1],\n",
       "        [1, 1, 1, 1, 0, 0]])"
      ]
     },
     "execution_count": 17,
     "metadata": {},
     "output_type": "execute_result"
    }
   ],
   "source": [
    "prediction_matrix = page_nr_probs[2:, 2:].argmax(2)\n",
    "prediction_matrix"
   ]
  }
 ],
 "metadata": {
  "kernelspec": {
   "display_name": "multipage-classifier-training-AUw5wBFA-py3.10",
   "language": "python",
   "name": "python3"
  },
  "language_info": {
   "codemirror_mode": {
    "name": "ipython",
    "version": 3
   },
   "file_extension": ".py",
   "mimetype": "text/x-python",
   "name": "python",
   "nbconvert_exporter": "python",
   "pygments_lexer": "ipython3",
   "version": "3.11.1"
  },
  "orig_nbformat": 4,
  "vscode": {
   "interpreter": {
    "hash": "3ac4961f1a54f42faafdec5556e4f4c3e1beb539dc12fb47f919b6f0d50a14ba"
   }
  }
 },
 "nbformat": 4,
 "nbformat_minor": 2
}
