{
 "cells": [
  {
   "cell_type": "code",
   "execution_count": 34,
   "metadata": {},
   "outputs": [],
   "source": [
    "from pathlib import Path\n",
    "import torch\n",
    "import pytorch_lightning as pl\n",
    "from lightning_module import SwinEncoderPLModule\n",
    "from pytorch_lightning.callbacks import ModelCheckpoint\n",
    "from pytorch_lightning.loggers import TensorBoardLogger\n",
    "\n",
    "from multipage_classifier.datasets.ucsf_dataset import UCSFDataModule\n",
    "from multipage_classifier.encoder.swin_encoder import SwinEncoderConfig\n",
    "from lightning_module import SwinEncoderPLModule\n",
    "from multipage_classifier.preprocessor import ImageProcessor\n"
   ]
  },
  {
   "cell_type": "code",
   "execution_count": 35,
   "metadata": {},
   "outputs": [],
   "source": [
    "\n",
    "EMBEDDER_MODEL = \"../lightning_logs/multipage_swin_encoder/version_3/checkpoints/best-checkpoint.ckpt\"\n",
    "DATASET_PATH=\"../../dataset/ucsf-idl-resized-without_emails/\"\n",
    "DS_FILE = \"IDL-less_20_pages.json\"\n",
    "\n",
    "\n",
    "MAX_PAGES = 8\n",
    "NUM_WORKERS = 8\n",
    "\n",
    "IMAGE_SIZE  = (512, 704) "
   ]
  },
  {
   "cell_type": "code",
   "execution_count": 36,
   "metadata": {},
   "outputs": [],
   "source": [
    "# Define preprocessor\n",
    "image_processor = ImageProcessor(img_size=IMAGE_SIZE)\n",
    "\n",
    "data_module = UCSFDataModule(\n",
    "    Path(DATASET_PATH),\n",
    "    DS_FILE,\n",
    "    prepare_function=image_processor.prepare_input,\n",
    "    split=[0.8, 0.2],\n",
    "    max_pages=MAX_PAGES,\n",
    "    num_workers=NUM_WORKERS\n",
    ")\n",
    "data_module.prepare_data()\n",
    "data_module.setup()"
   ]
  },
  {
   "cell_type": "code",
   "execution_count": 37,
   "metadata": {},
   "outputs": [],
   "source": [
    "# Load Embedder\n",
    "embedder = SwinEncoderPLModule.load_from_checkpoint(EMBEDDER_MODEL)\n",
    "embedder.eval()\n",
    "pass"
   ]
  },
  {
   "cell_type": "code",
   "execution_count": 38,
   "metadata": {},
   "outputs": [],
   "source": [
    "pixel_input = next(iter(data_module.test_dataloader()))"
   ]
  },
  {
   "cell_type": "code",
   "execution_count": 39,
   "metadata": {},
   "outputs": [],
   "source": [
    "pred, gt, loss = embedder.step(pixel_input)"
   ]
  },
  {
   "cell_type": "code",
   "execution_count": 40,
   "metadata": {},
   "outputs": [
    {
     "data": {
      "text/plain": [
       "tensor([[3, 1, 1, 1],\n",
       "        [2, 3, 1, 1],\n",
       "        [2, 2, 3, 1],\n",
       "        [2, 2, 2, 3]])"
      ]
     },
     "execution_count": 40,
     "metadata": {},
     "output_type": "execute_result"
    }
   ],
   "source": [
    "gt.view(-1, len(pixel_input[\"pixel_values\"]))"
   ]
  },
  {
   "cell_type": "code",
   "execution_count": 41,
   "metadata": {},
   "outputs": [
    {
     "data": {
      "text/plain": [
       "tensor([[0, 0, 0, 0],\n",
       "        [0, 0, 0, 0],\n",
       "        [0, 0, 0, 0],\n",
       "        [0, 0, 0, 0]])"
      ]
     },
     "execution_count": 41,
     "metadata": {},
     "output_type": "execute_result"
    }
   ],
   "source": [
    "pred.argmax(1).view(-1, len(pixel_input[\"pixel_values\"]))"
   ]
  }
 ],
 "metadata": {
  "kernelspec": {
   "display_name": "multipage-classifier-training-AUw5wBFA-py3.10",
   "language": "python",
   "name": "python3"
  },
  "language_info": {
   "codemirror_mode": {
    "name": "ipython",
    "version": 3
   },
   "file_extension": ".py",
   "mimetype": "text/x-python",
   "name": "python",
   "nbconvert_exporter": "python",
   "pygments_lexer": "ipython3",
   "version": "3.10.9"
  },
  "orig_nbformat": 4,
  "vscode": {
   "interpreter": {
    "hash": "3ac4961f1a54f42faafdec5556e4f4c3e1beb539dc12fb47f919b6f0d50a14ba"
   }
  }
 },
 "nbformat": 4,
 "nbformat_minor": 2
}
